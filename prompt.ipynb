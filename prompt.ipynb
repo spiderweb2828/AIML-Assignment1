{
 "cells": [
  {
   "cell_type": "markdown",
   "metadata": {},
   "source": [
    "### Will a Customer Accept the Coupon?\n",
    "\n",
    "**Context**\n",
    "\n",
    "Imagine driving through town and a coupon is delivered to your cell phone for a restaraunt near where you are driving. Would you accept that coupon and take a short detour to the restaraunt? Would you accept the coupon but use it on a sunbsequent trip? Would you ignore the coupon entirely? What if the coupon was for a bar instead of a restaraunt? What about a coffee house? Would you accept a bar coupon with a minor passenger in the car? What about if it was just you and your partner in the car? Would weather impact the rate of acceptance? What about the time of day?\n",
    "\n",
    "Obviously, proximity to the business is a factor on whether the coupon is delivered to the driver or not, but what are the factors that determine whether a driver accepts the coupon once it is delivered to them? How would you determine whether a driver is likely to accept a coupon?\n",
    "\n",
    "**Overview**\n",
    "\n",
    "The goal of this project is to use what you know about visualizations and probability distributions to distinguish between customers who accepted a driving coupon versus those that did not.\n",
    "\n",
    "**Data**\n",
    "\n",
    "This data comes to us from the UCI Machine Learning repository and was collected via a survey on Amazon Mechanical Turk. The survey describes different driving scenarios including the destination, current time, weather, passenger, etc., and then ask the person whether he will accept the coupon if he is the driver. Answers that the user will drive there ‘right away’ or ‘later before the coupon expires’ are labeled as ‘Y = 1’ and answers ‘no, I do not want the coupon’ are labeled as ‘Y = 0’.  There are five different types of coupons -- less expensive restaurants (under \\\\$20), coffee houses, carry out & take away, bar, and more expensive restaurants (\\\\$20 - \\\\$50). "
   ]
  },
  {
   "cell_type": "markdown",
   "metadata": {},
   "source": [
    "**Deliverables**\n",
    "\n",
    "Your final product should be a brief report that highlights the differences between customers who did and did not accept the coupons.  To explore the data you will utilize your knowledge of plotting, statistical summaries, and visualization using Python. You will publish your findings in a public facing github repository as your first portfolio piece. \n",
    "\n",
    "\n",
    "\n"
   ]
  },
  {
   "cell_type": "markdown",
   "metadata": {},
   "source": [
    "### Data Description\n",
    "Keep in mind that these values mentioned below are average values.\n",
    "\n",
    "The attributes of this data set include:\n",
    "1. User attributes\n",
    "    -  Gender: male, female\n",
    "    -  Age: below 21, 21 to 25, 26 to 30, etc.\n",
    "    -  Marital Status: single, married partner, unmarried partner, or widowed\n",
    "    -  Number of children: 0, 1, or more than 1\n",
    "    -  Education: high school, bachelors degree, associates degree, or graduate degree\n",
    "    -  Occupation: architecture & engineering, business & financial, etc.\n",
    "    -  Annual income: less than \\\\$12500, \\\\$12500 - \\\\$24999, \\\\$25000 - \\\\$37499, etc.\n",
    "    -  Number of times that he/she goes to a bar: 0, less than 1, 1 to 3, 4 to 8 or greater than 8\n",
    "    -  Number of times that he/she buys takeaway food: 0, less than 1, 1 to 3, 4 to 8 or greater\n",
    "    than 8\n",
    "    -  Number of times that he/she goes to a coffee house: 0, less than 1, 1 to 3, 4 to 8 or\n",
    "    greater than 8\n",
    "    -  Number of times that he/she eats at a restaurant with average expense less than \\\\$20 per\n",
    "    person: 0, less than 1, 1 to 3, 4 to 8 or greater than 8\n",
    "    -  Number of times that he/she goes to a bar: 0, less than 1, 1 to 3, 4 to 8 or greater than 8\n",
    "    \n",
    "\n",
    "2. Contextual attributes\n",
    "    - Driving destination: home, work, or no urgent destination\n",
    "    - Location of user, coupon and destination: we provide a map to show the geographical\n",
    "    location of the user, destination, and the venue, and we mark the distance between each\n",
    "    two places with time of driving. The user can see whether the venue is in the same\n",
    "    direction as the destination.\n",
    "    - Weather: sunny, rainy, or snowy\n",
    "    - Temperature: 30F, 55F, or 80F\n",
    "    - Time: 10AM, 2PM, or 6PM\n",
    "    - Passenger: alone, partner, kid(s), or friend(s)\n",
    "\n",
    "\n",
    "3. Coupon attributes\n",
    "    - time before it expires: 2 hours or one day"
   ]
  },
  {
   "cell_type": "code",
   "execution_count": 146,
   "metadata": {
    "ExecuteTime": {
     "end_time": "2023-07-08T21:18:32.998774300Z",
     "start_time": "2023-07-08T21:18:32.869948900Z"
    }
   },
   "outputs": [],
   "source": [
    "import matplotlib.pyplot as plt\n",
    "import seaborn as sns\n",
    "import pandas as pd\n",
    "import numpy as np\n",
    "import plotly.express as px"
   ]
  },
  {
   "cell_type": "markdown",
   "metadata": {},
   "source": [
    "### Problems\n",
    "\n",
    "Use the prompts below to get started with your data analysis.  \n",
    "\n",
    "1. Read in the `coupons.csv` file.\n",
    "\n",
    "\n"
   ]
  },
  {
   "cell_type": "code",
   "execution_count": 3,
   "metadata": {
    "ExecuteTime": {
     "end_time": "2023-07-08T15:43:58.503738700Z",
     "start_time": "2023-07-08T15:43:58.436737500Z"
    }
   },
   "outputs": [],
   "source": [
    "data = pd.read_csv('data/coupons.csv')"
   ]
  },
  {
   "cell_type": "code",
   "execution_count": 4,
   "metadata": {
    "ExecuteTime": {
     "end_time": "2023-07-08T15:44:00.183508200Z",
     "start_time": "2023-07-08T15:44:00.138490900Z"
    }
   },
   "outputs": [
    {
     "data": {
      "text/plain": "       destination  passanger weather  temperature  time  \\\n0  No Urgent Place      Alone   Sunny           55   2PM   \n1  No Urgent Place  Friend(s)   Sunny           80  10AM   \n2  No Urgent Place  Friend(s)   Sunny           80  10AM   \n3  No Urgent Place  Friend(s)   Sunny           80   2PM   \n4  No Urgent Place  Friend(s)   Sunny           80   2PM   \n\n                  coupon expiration  gender age      maritalStatus  ...  \\\n0        Restaurant(<20)         1d  Female  21  Unmarried partner  ...   \n1           Coffee House         2h  Female  21  Unmarried partner  ...   \n2  Carry out & Take away         2h  Female  21  Unmarried partner  ...   \n3           Coffee House         2h  Female  21  Unmarried partner  ...   \n4           Coffee House         1d  Female  21  Unmarried partner  ...   \n\n   CoffeeHouse CarryAway RestaurantLessThan20 Restaurant20To50  \\\n0        never       NaN                  4~8              1~3   \n1        never       NaN                  4~8              1~3   \n2        never       NaN                  4~8              1~3   \n3        never       NaN                  4~8              1~3   \n4        never       NaN                  4~8              1~3   \n\n  toCoupon_GEQ5min toCoupon_GEQ15min toCoupon_GEQ25min direction_same  \\\n0                1                 0                 0              0   \n1                1                 0                 0              0   \n2                1                 1                 0              0   \n3                1                 1                 0              0   \n4                1                 1                 0              0   \n\n  direction_opp  Y  \n0             1  1  \n1             1  0  \n2             1  1  \n3             1  0  \n4             1  0  \n\n[5 rows x 26 columns]",
      "text/html": "<div>\n<style scoped>\n    .dataframe tbody tr th:only-of-type {\n        vertical-align: middle;\n    }\n\n    .dataframe tbody tr th {\n        vertical-align: top;\n    }\n\n    .dataframe thead th {\n        text-align: right;\n    }\n</style>\n<table border=\"1\" class=\"dataframe\">\n  <thead>\n    <tr style=\"text-align: right;\">\n      <th></th>\n      <th>destination</th>\n      <th>passanger</th>\n      <th>weather</th>\n      <th>temperature</th>\n      <th>time</th>\n      <th>coupon</th>\n      <th>expiration</th>\n      <th>gender</th>\n      <th>age</th>\n      <th>maritalStatus</th>\n      <th>...</th>\n      <th>CoffeeHouse</th>\n      <th>CarryAway</th>\n      <th>RestaurantLessThan20</th>\n      <th>Restaurant20To50</th>\n      <th>toCoupon_GEQ5min</th>\n      <th>toCoupon_GEQ15min</th>\n      <th>toCoupon_GEQ25min</th>\n      <th>direction_same</th>\n      <th>direction_opp</th>\n      <th>Y</th>\n    </tr>\n  </thead>\n  <tbody>\n    <tr>\n      <th>0</th>\n      <td>No Urgent Place</td>\n      <td>Alone</td>\n      <td>Sunny</td>\n      <td>55</td>\n      <td>2PM</td>\n      <td>Restaurant(&lt;20)</td>\n      <td>1d</td>\n      <td>Female</td>\n      <td>21</td>\n      <td>Unmarried partner</td>\n      <td>...</td>\n      <td>never</td>\n      <td>NaN</td>\n      <td>4~8</td>\n      <td>1~3</td>\n      <td>1</td>\n      <td>0</td>\n      <td>0</td>\n      <td>0</td>\n      <td>1</td>\n      <td>1</td>\n    </tr>\n    <tr>\n      <th>1</th>\n      <td>No Urgent Place</td>\n      <td>Friend(s)</td>\n      <td>Sunny</td>\n      <td>80</td>\n      <td>10AM</td>\n      <td>Coffee House</td>\n      <td>2h</td>\n      <td>Female</td>\n      <td>21</td>\n      <td>Unmarried partner</td>\n      <td>...</td>\n      <td>never</td>\n      <td>NaN</td>\n      <td>4~8</td>\n      <td>1~3</td>\n      <td>1</td>\n      <td>0</td>\n      <td>0</td>\n      <td>0</td>\n      <td>1</td>\n      <td>0</td>\n    </tr>\n    <tr>\n      <th>2</th>\n      <td>No Urgent Place</td>\n      <td>Friend(s)</td>\n      <td>Sunny</td>\n      <td>80</td>\n      <td>10AM</td>\n      <td>Carry out &amp; Take away</td>\n      <td>2h</td>\n      <td>Female</td>\n      <td>21</td>\n      <td>Unmarried partner</td>\n      <td>...</td>\n      <td>never</td>\n      <td>NaN</td>\n      <td>4~8</td>\n      <td>1~3</td>\n      <td>1</td>\n      <td>1</td>\n      <td>0</td>\n      <td>0</td>\n      <td>1</td>\n      <td>1</td>\n    </tr>\n    <tr>\n      <th>3</th>\n      <td>No Urgent Place</td>\n      <td>Friend(s)</td>\n      <td>Sunny</td>\n      <td>80</td>\n      <td>2PM</td>\n      <td>Coffee House</td>\n      <td>2h</td>\n      <td>Female</td>\n      <td>21</td>\n      <td>Unmarried partner</td>\n      <td>...</td>\n      <td>never</td>\n      <td>NaN</td>\n      <td>4~8</td>\n      <td>1~3</td>\n      <td>1</td>\n      <td>1</td>\n      <td>0</td>\n      <td>0</td>\n      <td>1</td>\n      <td>0</td>\n    </tr>\n    <tr>\n      <th>4</th>\n      <td>No Urgent Place</td>\n      <td>Friend(s)</td>\n      <td>Sunny</td>\n      <td>80</td>\n      <td>2PM</td>\n      <td>Coffee House</td>\n      <td>1d</td>\n      <td>Female</td>\n      <td>21</td>\n      <td>Unmarried partner</td>\n      <td>...</td>\n      <td>never</td>\n      <td>NaN</td>\n      <td>4~8</td>\n      <td>1~3</td>\n      <td>1</td>\n      <td>1</td>\n      <td>0</td>\n      <td>0</td>\n      <td>1</td>\n      <td>0</td>\n    </tr>\n  </tbody>\n</table>\n<p>5 rows × 26 columns</p>\n</div>"
     },
     "execution_count": 4,
     "metadata": {},
     "output_type": "execute_result"
    }
   ],
   "source": [
    "data.head()"
   ]
  },
  {
   "cell_type": "markdown",
   "metadata": {},
   "source": [
    "2. Investigate the dataset for missing or problematic data.\n",
    "    check the file \"unique_values_bf_data_clean.csv\" in the results folder to look at the unique values before data cleaning. We can see there are columns that have nan values and those columns are listed below for data clean up along with their resolution\n",
    "    Findings: Number of \"nan\" in columns\n",
    "        Car                     12576\n",
    "        Bar                       107\n",
    "        CoffeeHouse               217\n",
    "        CarryAway                 151\n",
    "        RestaurantLessThan20      130\n",
    "        Restaurant20To50          189\n",
    "\n"
   ]
  },
  {
   "cell_type": "code",
   "execution_count": 11,
   "metadata": {
    "ExecuteTime": {
     "end_time": "2023-07-08T16:10:06.028080300Z",
     "start_time": "2023-07-08T16:10:05.988003200Z"
    }
   },
   "outputs": [
    {
     "data": {
      "text/plain": "destination                                 [No Urgent Place, Home, Work]\npassanger                             [Alone, Friend(s), Kid(s), Partner]\nweather                                             [Sunny, Rainy, Snowy]\ntemperature                                                  [55, 80, 30]\ntime                                          [2PM, 10AM, 6PM, 7AM, 10PM]\ncoupon                  [Restaurant(<20), Coffee House, Carry out & Ta...\nexpiration                                                       [1d, 2h]\ngender                                                     [Female, Male]\nage                             [21, 46, 26, 31, 41, 50plus, 36, below21]\nmaritalStatus           [Unmarried partner, Single, Married partner, D...\nhas_children                                                       [1, 0]\neducation               [Some college - no degree, Bachelors degree, A...\noccupation              [Unemployed, Architecture & Engineering, Stude...\nincome                  [$37500 - $49999, $62500 - $74999, $12500 - $2...\ncar                     [nan, Scooter and motorcycle, crossover, Mazda...\nBar                                    [never, less1, 1~3, gt8, nan, 4~8]\nCoffeeHouse                            [never, less1, 4~8, 1~3, gt8, nan]\nCarryAway                              [nan, 4~8, 1~3, gt8, less1, never]\nRestaurantLessThan20                   [4~8, 1~3, less1, gt8, nan, never]\nRestaurant20To50                       [1~3, less1, never, gt8, 4~8, nan]\ntoCoupon_GEQ5min                                                      [1]\ntoCoupon_GEQ15min                                                  [0, 1]\ntoCoupon_GEQ25min                                                  [0, 1]\ndirection_same                                                     [0, 1]\ndirection_opp                                                      [1, 0]\nY                                                                  [1, 0]\ndtype: object"
     },
     "execution_count": 11,
     "metadata": {},
     "output_type": "execute_result"
    }
   ],
   "source": [
    "data.apply(lambda col: col.unique())"
   ]
  },
  {
   "cell_type": "code",
   "execution_count": 93,
   "outputs": [],
   "source": [
    "tmp_dataset = data.copy(deep=True)"
   ],
   "metadata": {
    "collapsed": false,
    "ExecuteTime": {
     "end_time": "2023-07-08T18:04:10.475172800Z",
     "start_time": "2023-07-08T18:04:10.456908700Z"
    }
   }
  },
  {
   "cell_type": "code",
   "execution_count": 78,
   "outputs": [
    {
     "name": "stdout",
     "output_type": "stream",
     "text": [
      "Car                     12576\n",
      "Bar                       107\n",
      "CoffeeHouse               217\n",
      "CarryAway                 151\n",
      "RestaurantLessThan20      130\n",
      "Restaurant20To50          189\n",
      "dtype: int64\n"
     ]
    }
   ],
   "source": [
    "nan_list = [tmp_dataset['car'].isnull().sum(),tmp_dataset['Bar'].isnull().sum(), tmp_dataset['CoffeeHouse'].isnull().sum(),tmp_dataset['CarryAway'].isnull().sum(),tmp_dataset['RestaurantLessThan20'].isnull().sum(),tmp_dataset['Restaurant20To50'].isnull().sum()]\n",
    "nan_list_series = pd.Series(nan_list, index = [\"Car\",\"Bar\", \"CoffeeHouse\",\"CarryAway\",\"RestaurantLessThan20\",\"Restaurant20To50\"])\n",
    "print(nan_list_series)"
   ],
   "metadata": {
    "collapsed": false,
    "ExecuteTime": {
     "end_time": "2023-07-08T17:57:51.734331400Z",
     "start_time": "2023-07-08T17:57:51.723742400Z"
    }
   }
  },
  {
   "cell_type": "markdown",
   "metadata": {},
   "source": [
    "3. Decide what to do about your missing data -- drop, replace, other...\n",
    "\n",
    "        -- Car : Significant number of records with \"nan\"s and coupon accepted (7148). we cannot drop these rows. so lets replace the nan with \"Unknown Transportation\"\n",
    "        -- Bar : had 107 nan. Resolution: check if these persons have any kids with them. if so replace 'nan' with 'never' as a fair assumption. if not then replace 'nan' with mean of means of other values\n",
    "        -- CoffeHouse\n",
    "        -- CarryAway\n",
    "        -- RestaurantLessThan20\n",
    "        -- Restaurant20To50"
   ]
  },
  {
   "cell_type": "code",
   "execution_count": 79,
   "metadata": {
    "ExecuteTime": {
     "end_time": "2023-07-08T17:57:56.237367400Z",
     "start_time": "2023-07-08T17:57:56.209577300Z"
    }
   },
   "outputs": [
    {
     "data": {
      "text/plain": "           destination  passanger weather  temperature  time  \\\n0      No Urgent Place      Alone   Sunny           55   2PM   \n2      No Urgent Place  Friend(s)   Sunny           80  10AM   \n5      No Urgent Place  Friend(s)   Sunny           80   6PM   \n6      No Urgent Place  Friend(s)   Sunny           55   2PM   \n7      No Urgent Place     Kid(s)   Sunny           80  10AM   \n...                ...        ...     ...          ...   ...   \n12671  No Urgent Place    Partner   Snowy           30  10AM   \n12676             Home      Alone   Sunny           80   6PM   \n12677             Home    Partner   Sunny           30   6PM   \n12679             Home    Partner   Rainy           55   6PM   \n12680             Work      Alone   Rainy           55   7AM   \n\n                      coupon expiration  gender age      maritalStatus  ...  \\\n0            Restaurant(<20)         1d  Female  21  Unmarried partner  ...   \n2      Carry out & Take away         2h  Female  21  Unmarried partner  ...   \n5            Restaurant(<20)         2h  Female  21  Unmarried partner  ...   \n6      Carry out & Take away         1d  Female  21  Unmarried partner  ...   \n7            Restaurant(<20)         2h  Female  21  Unmarried partner  ...   \n...                      ...        ...     ...  ..                ...  ...   \n12671        Restaurant(<20)         1d    Male  26             Single  ...   \n12676      Restaurant(20-50)         1d    Male  26             Single  ...   \n12677        Restaurant(<20)         1d    Male  26             Single  ...   \n12679  Carry out & Take away         1d    Male  26             Single  ...   \n12680  Carry out & Take away         1d    Male  26             Single  ...   \n\n       CoffeeHouse CarryAway RestaurantLessThan20 Restaurant20To50  \\\n0            never       NaN                  4~8              1~3   \n2            never       NaN                  4~8              1~3   \n5            never       NaN                  4~8              1~3   \n6            never       NaN                  4~8              1~3   \n7            never       NaN                  4~8              1~3   \n...            ...       ...                  ...              ...   \n12671        never       1~3                  4~8              1~3   \n12676        never       1~3                  4~8              1~3   \n12677        never       1~3                  4~8              1~3   \n12679        never       1~3                  4~8              1~3   \n12680        never       1~3                  4~8              1~3   \n\n      toCoupon_GEQ5min toCoupon_GEQ15min toCoupon_GEQ25min direction_same  \\\n0                    1                 0                 0              0   \n2                    1                 1                 0              0   \n5                    1                 1                 0              0   \n6                    1                 1                 0              0   \n7                    1                 1                 0              0   \n...                ...               ...               ...            ...   \n12671                1                 0                 0              0   \n12676                1                 0                 0              1   \n12677                1                 1                 1              0   \n12679                1                 0                 0              1   \n12680                1                 0                 0              0   \n\n      direction_opp  Y  \n0                 1  1  \n2                 1  1  \n5                 1  1  \n6                 1  1  \n7                 1  1  \n...             ... ..  \n12671             1  1  \n12676             0  1  \n12677             1  1  \n12679             0  1  \n12680             1  1  \n\n[7148 rows x 26 columns]",
      "text/html": "<div>\n<style scoped>\n    .dataframe tbody tr th:only-of-type {\n        vertical-align: middle;\n    }\n\n    .dataframe tbody tr th {\n        vertical-align: top;\n    }\n\n    .dataframe thead th {\n        text-align: right;\n    }\n</style>\n<table border=\"1\" class=\"dataframe\">\n  <thead>\n    <tr style=\"text-align: right;\">\n      <th></th>\n      <th>destination</th>\n      <th>passanger</th>\n      <th>weather</th>\n      <th>temperature</th>\n      <th>time</th>\n      <th>coupon</th>\n      <th>expiration</th>\n      <th>gender</th>\n      <th>age</th>\n      <th>maritalStatus</th>\n      <th>...</th>\n      <th>CoffeeHouse</th>\n      <th>CarryAway</th>\n      <th>RestaurantLessThan20</th>\n      <th>Restaurant20To50</th>\n      <th>toCoupon_GEQ5min</th>\n      <th>toCoupon_GEQ15min</th>\n      <th>toCoupon_GEQ25min</th>\n      <th>direction_same</th>\n      <th>direction_opp</th>\n      <th>Y</th>\n    </tr>\n  </thead>\n  <tbody>\n    <tr>\n      <th>0</th>\n      <td>No Urgent Place</td>\n      <td>Alone</td>\n      <td>Sunny</td>\n      <td>55</td>\n      <td>2PM</td>\n      <td>Restaurant(&lt;20)</td>\n      <td>1d</td>\n      <td>Female</td>\n      <td>21</td>\n      <td>Unmarried partner</td>\n      <td>...</td>\n      <td>never</td>\n      <td>NaN</td>\n      <td>4~8</td>\n      <td>1~3</td>\n      <td>1</td>\n      <td>0</td>\n      <td>0</td>\n      <td>0</td>\n      <td>1</td>\n      <td>1</td>\n    </tr>\n    <tr>\n      <th>2</th>\n      <td>No Urgent Place</td>\n      <td>Friend(s)</td>\n      <td>Sunny</td>\n      <td>80</td>\n      <td>10AM</td>\n      <td>Carry out &amp; Take away</td>\n      <td>2h</td>\n      <td>Female</td>\n      <td>21</td>\n      <td>Unmarried partner</td>\n      <td>...</td>\n      <td>never</td>\n      <td>NaN</td>\n      <td>4~8</td>\n      <td>1~3</td>\n      <td>1</td>\n      <td>1</td>\n      <td>0</td>\n      <td>0</td>\n      <td>1</td>\n      <td>1</td>\n    </tr>\n    <tr>\n      <th>5</th>\n      <td>No Urgent Place</td>\n      <td>Friend(s)</td>\n      <td>Sunny</td>\n      <td>80</td>\n      <td>6PM</td>\n      <td>Restaurant(&lt;20)</td>\n      <td>2h</td>\n      <td>Female</td>\n      <td>21</td>\n      <td>Unmarried partner</td>\n      <td>...</td>\n      <td>never</td>\n      <td>NaN</td>\n      <td>4~8</td>\n      <td>1~3</td>\n      <td>1</td>\n      <td>1</td>\n      <td>0</td>\n      <td>0</td>\n      <td>1</td>\n      <td>1</td>\n    </tr>\n    <tr>\n      <th>6</th>\n      <td>No Urgent Place</td>\n      <td>Friend(s)</td>\n      <td>Sunny</td>\n      <td>55</td>\n      <td>2PM</td>\n      <td>Carry out &amp; Take away</td>\n      <td>1d</td>\n      <td>Female</td>\n      <td>21</td>\n      <td>Unmarried partner</td>\n      <td>...</td>\n      <td>never</td>\n      <td>NaN</td>\n      <td>4~8</td>\n      <td>1~3</td>\n      <td>1</td>\n      <td>1</td>\n      <td>0</td>\n      <td>0</td>\n      <td>1</td>\n      <td>1</td>\n    </tr>\n    <tr>\n      <th>7</th>\n      <td>No Urgent Place</td>\n      <td>Kid(s)</td>\n      <td>Sunny</td>\n      <td>80</td>\n      <td>10AM</td>\n      <td>Restaurant(&lt;20)</td>\n      <td>2h</td>\n      <td>Female</td>\n      <td>21</td>\n      <td>Unmarried partner</td>\n      <td>...</td>\n      <td>never</td>\n      <td>NaN</td>\n      <td>4~8</td>\n      <td>1~3</td>\n      <td>1</td>\n      <td>1</td>\n      <td>0</td>\n      <td>0</td>\n      <td>1</td>\n      <td>1</td>\n    </tr>\n    <tr>\n      <th>...</th>\n      <td>...</td>\n      <td>...</td>\n      <td>...</td>\n      <td>...</td>\n      <td>...</td>\n      <td>...</td>\n      <td>...</td>\n      <td>...</td>\n      <td>...</td>\n      <td>...</td>\n      <td>...</td>\n      <td>...</td>\n      <td>...</td>\n      <td>...</td>\n      <td>...</td>\n      <td>...</td>\n      <td>...</td>\n      <td>...</td>\n      <td>...</td>\n      <td>...</td>\n      <td>...</td>\n    </tr>\n    <tr>\n      <th>12671</th>\n      <td>No Urgent Place</td>\n      <td>Partner</td>\n      <td>Snowy</td>\n      <td>30</td>\n      <td>10AM</td>\n      <td>Restaurant(&lt;20)</td>\n      <td>1d</td>\n      <td>Male</td>\n      <td>26</td>\n      <td>Single</td>\n      <td>...</td>\n      <td>never</td>\n      <td>1~3</td>\n      <td>4~8</td>\n      <td>1~3</td>\n      <td>1</td>\n      <td>0</td>\n      <td>0</td>\n      <td>0</td>\n      <td>1</td>\n      <td>1</td>\n    </tr>\n    <tr>\n      <th>12676</th>\n      <td>Home</td>\n      <td>Alone</td>\n      <td>Sunny</td>\n      <td>80</td>\n      <td>6PM</td>\n      <td>Restaurant(20-50)</td>\n      <td>1d</td>\n      <td>Male</td>\n      <td>26</td>\n      <td>Single</td>\n      <td>...</td>\n      <td>never</td>\n      <td>1~3</td>\n      <td>4~8</td>\n      <td>1~3</td>\n      <td>1</td>\n      <td>0</td>\n      <td>0</td>\n      <td>1</td>\n      <td>0</td>\n      <td>1</td>\n    </tr>\n    <tr>\n      <th>12677</th>\n      <td>Home</td>\n      <td>Partner</td>\n      <td>Sunny</td>\n      <td>30</td>\n      <td>6PM</td>\n      <td>Restaurant(&lt;20)</td>\n      <td>1d</td>\n      <td>Male</td>\n      <td>26</td>\n      <td>Single</td>\n      <td>...</td>\n      <td>never</td>\n      <td>1~3</td>\n      <td>4~8</td>\n      <td>1~3</td>\n      <td>1</td>\n      <td>1</td>\n      <td>1</td>\n      <td>0</td>\n      <td>1</td>\n      <td>1</td>\n    </tr>\n    <tr>\n      <th>12679</th>\n      <td>Home</td>\n      <td>Partner</td>\n      <td>Rainy</td>\n      <td>55</td>\n      <td>6PM</td>\n      <td>Carry out &amp; Take away</td>\n      <td>1d</td>\n      <td>Male</td>\n      <td>26</td>\n      <td>Single</td>\n      <td>...</td>\n      <td>never</td>\n      <td>1~3</td>\n      <td>4~8</td>\n      <td>1~3</td>\n      <td>1</td>\n      <td>0</td>\n      <td>0</td>\n      <td>1</td>\n      <td>0</td>\n      <td>1</td>\n    </tr>\n    <tr>\n      <th>12680</th>\n      <td>Work</td>\n      <td>Alone</td>\n      <td>Rainy</td>\n      <td>55</td>\n      <td>7AM</td>\n      <td>Carry out &amp; Take away</td>\n      <td>1d</td>\n      <td>Male</td>\n      <td>26</td>\n      <td>Single</td>\n      <td>...</td>\n      <td>never</td>\n      <td>1~3</td>\n      <td>4~8</td>\n      <td>1~3</td>\n      <td>1</td>\n      <td>0</td>\n      <td>0</td>\n      <td>0</td>\n      <td>1</td>\n      <td>1</td>\n    </tr>\n  </tbody>\n</table>\n<p>7148 rows × 26 columns</p>\n</div>"
     },
     "execution_count": 79,
     "metadata": {},
     "output_type": "execute_result"
    }
   ],
   "source": [
    "# lets find if the rows with car = nan has used any of the coupons\n",
    "tmp_dataset.query( 'Y ==1 &  car.isnull()', engine='python')"
   ]
  },
  {
   "cell_type": "code",
   "execution_count": 94,
   "outputs": [],
   "source": [
    "tmp_dataset['car'] = tmp_dataset['car'].fillna(\"Unknown Transportation\")"
   ],
   "metadata": {
    "collapsed": false,
    "ExecuteTime": {
     "end_time": "2023-07-08T18:04:51.727216600Z",
     "start_time": "2023-07-08T18:04:51.694021400Z"
    }
   }
  },
  {
   "cell_type": "code",
   "execution_count": 95,
   "outputs": [],
   "source": [
    "# lets work on the Bar nans.\n",
    "# tmp_dataset.query( 'Bar.isnull() & has_children > 0', engine='python')\n",
    "tmp_dataset.loc[(tmp_dataset['Bar'].isnull() & tmp_dataset['has_children'] > 0),'Bar'] ='never'"
   ],
   "metadata": {
    "collapsed": false,
    "ExecuteTime": {
     "end_time": "2023-07-08T18:05:23.857401500Z",
     "start_time": "2023-07-08T18:05:23.836317100Z"
    }
   }
  },
  {
   "cell_type": "code",
   "execution_count": 97,
   "outputs": [
    {
     "data": {
      "text/plain": "           destination  passanger weather  temperature  time  \\\n852    No Urgent Place    Partner   Sunny           80  10AM   \n853    No Urgent Place    Partner   Sunny           80  10AM   \n854    No Urgent Place    Partner   Sunny           80  10AM   \n855    No Urgent Place    Partner   Sunny           80  10AM   \n856    No Urgent Place    Partner   Sunny           80   6PM   \n857    No Urgent Place    Partner   Sunny           80   6PM   \n1166   No Urgent Place    Partner   Sunny           80  10AM   \n1167   No Urgent Place    Partner   Sunny           80  10AM   \n1168   No Urgent Place    Partner   Sunny           80  10AM   \n1169   No Urgent Place    Partner   Sunny           80  10AM   \n1170   No Urgent Place    Partner   Sunny           80   6PM   \n1171   No Urgent Place    Partner   Sunny           80   6PM   \n2380   No Urgent Place  Friend(s)   Sunny           80  10AM   \n2381   No Urgent Place  Friend(s)   Sunny           80   2PM   \n2382   No Urgent Place  Friend(s)   Sunny           80   2PM   \n2383   No Urgent Place  Friend(s)   Sunny           80   6PM   \n2384   No Urgent Place  Friend(s)   Sunny           55   2PM   \n2385   No Urgent Place      Alone   Sunny           55  10AM   \n3137   No Urgent Place  Friend(s)   Sunny           80  10AM   \n3138   No Urgent Place  Friend(s)   Sunny           80   2PM   \n3139   No Urgent Place  Friend(s)   Sunny           80   2PM   \n3140   No Urgent Place  Friend(s)   Sunny           80   6PM   \n3141   No Urgent Place  Friend(s)   Sunny           55   2PM   \n3142   No Urgent Place      Alone   Sunny           55  10AM   \n12152  No Urgent Place  Friend(s)   Sunny           80   6PM   \n12153  No Urgent Place  Friend(s)   Sunny           80  10PM   \n12154  No Urgent Place  Friend(s)   Sunny           55  10PM   \n12155  No Urgent Place  Friend(s)   Sunny           30  10AM   \n12156  No Urgent Place  Friend(s)   Snowy           30   2PM   \n12157  No Urgent Place      Alone   Rainy           55  10AM   \n12158  No Urgent Place      Alone   Rainy           55   2PM   \n12159  No Urgent Place      Alone   Sunny           80  10AM   \n12160  No Urgent Place      Alone   Snowy           30  10AM   \n12161             Home      Alone   Sunny           80   6PM   \n12162             Home      Alone   Sunny           30   6PM   \n12163             Home      Alone   Rainy           55  10PM   \n12164             Home      Alone   Snowy           30  10PM   \n12165             Home      Alone   Snowy           30  10PM   \n12166             Home      Alone   Sunny           80   6PM   \n12167             Home      Alone   Sunny           80  10PM   \n12168             Work      Alone   Rainy           55   7AM   \n12169             Work      Alone   Rainy           55   7AM   \n12170             Work      Alone   Snowy           30   7AM   \n12171             Work      Alone   Snowy           30   7AM   \n12172             Work      Alone   Sunny           80   7AM   \n\n                      coupon expiration  gender age      maritalStatus  ...  \\\n852             Coffee House         2h    Male  41    Married partner  ...   \n853        Restaurant(20-50)         1d    Male  41    Married partner  ...   \n854                      Bar         2h    Male  41    Married partner  ...   \n855             Coffee House         2h    Male  41    Married partner  ...   \n856          Restaurant(<20)         2h    Male  41    Married partner  ...   \n857                      Bar         1d    Male  41    Married partner  ...   \n1166            Coffee House         2h    Male  26  Unmarried partner  ...   \n1167       Restaurant(20-50)         1d    Male  26  Unmarried partner  ...   \n1168                     Bar         2h    Male  26  Unmarried partner  ...   \n1169            Coffee House         2h    Male  26  Unmarried partner  ...   \n1170         Restaurant(<20)         2h    Male  26  Unmarried partner  ...   \n1171                     Bar         1d    Male  26  Unmarried partner  ...   \n2380                     Bar         1d    Male  26             Single  ...   \n2381            Coffee House         1d    Male  26             Single  ...   \n2382         Restaurant(<20)         1d    Male  26             Single  ...   \n2383            Coffee House         2h    Male  26             Single  ...   \n2384            Coffee House         2h    Male  26             Single  ...   \n2385            Coffee House         2h    Male  26             Single  ...   \n3137                     Bar         1d    Male  21             Single  ...   \n3138            Coffee House         1d    Male  21             Single  ...   \n3139         Restaurant(<20)         1d    Male  21             Single  ...   \n3140            Coffee House         2h    Male  21             Single  ...   \n3141            Coffee House         2h    Male  21             Single  ...   \n3142            Coffee House         2h    Male  21             Single  ...   \n12152        Restaurant(<20)         2h  Female  31             Single  ...   \n12153                    Bar         1d  Female  31             Single  ...   \n12154                    Bar         2h  Female  31             Single  ...   \n12155  Carry out & Take away         2h  Female  31             Single  ...   \n12156        Restaurant(<20)         1d  Female  31             Single  ...   \n12157                    Bar         1d  Female  31             Single  ...   \n12158  Carry out & Take away         2h  Female  31             Single  ...   \n12159        Restaurant(<20)         2h  Female  31             Single  ...   \n12160        Restaurant(<20)         1d  Female  31             Single  ...   \n12161  Carry out & Take away         2h  Female  31             Single  ...   \n12162  Carry out & Take away         1d  Female  31             Single  ...   \n12163           Coffee House         2h  Female  31             Single  ...   \n12164           Coffee House         2h  Female  31             Single  ...   \n12165  Carry out & Take away         1d  Female  31             Single  ...   \n12166      Restaurant(20-50)         1d  Female  31             Single  ...   \n12167      Restaurant(20-50)         1d  Female  31             Single  ...   \n12168        Restaurant(<20)         2h  Female  31             Single  ...   \n12169  Carry out & Take away         1d  Female  31             Single  ...   \n12170           Coffee House         1d  Female  31             Single  ...   \n12171                    Bar         1d  Female  31             Single  ...   \n12172      Restaurant(20-50)         2h  Female  31             Single  ...   \n\n       CoffeeHouse CarryAway RestaurantLessThan20 Restaurant20To50  \\\n852            NaN       NaN                  NaN              NaN   \n853            NaN       NaN                  NaN              NaN   \n854            NaN       NaN                  NaN              NaN   \n855            NaN       NaN                  NaN              NaN   \n856            NaN       NaN                  NaN              NaN   \n857            NaN       NaN                  NaN              NaN   \n1166           NaN       NaN                  NaN              NaN   \n1167           NaN       NaN                  NaN              NaN   \n1168           NaN       NaN                  NaN              NaN   \n1169           NaN       NaN                  NaN              NaN   \n1170           NaN       NaN                  NaN              NaN   \n1171           NaN       NaN                  NaN              NaN   \n2380           NaN       NaN                  NaN              NaN   \n2381           NaN       NaN                  NaN              NaN   \n2382           NaN       NaN                  NaN              NaN   \n2383           NaN       NaN                  NaN              NaN   \n2384           NaN       NaN                  NaN              NaN   \n2385           NaN       NaN                  NaN              NaN   \n3137           NaN       NaN                  NaN              NaN   \n3138           NaN       NaN                  NaN              NaN   \n3139           NaN       NaN                  NaN              NaN   \n3140           NaN       NaN                  NaN              NaN   \n3141           NaN       NaN                  NaN              NaN   \n3142           NaN       NaN                  NaN              NaN   \n12152        less1       gt8                  1~3            less1   \n12153        less1       gt8                  1~3            less1   \n12154        less1       gt8                  1~3            less1   \n12155        less1       gt8                  1~3            less1   \n12156        less1       gt8                  1~3            less1   \n12157        less1       gt8                  1~3            less1   \n12158        less1       gt8                  1~3            less1   \n12159        less1       gt8                  1~3            less1   \n12160        less1       gt8                  1~3            less1   \n12161        less1       gt8                  1~3            less1   \n12162        less1       gt8                  1~3            less1   \n12163        less1       gt8                  1~3            less1   \n12164        less1       gt8                  1~3            less1   \n12165        less1       gt8                  1~3            less1   \n12166        less1       gt8                  1~3            less1   \n12167        less1       gt8                  1~3            less1   \n12168        less1       gt8                  1~3            less1   \n12169        less1       gt8                  1~3            less1   \n12170        less1       gt8                  1~3            less1   \n12171        less1       gt8                  1~3            less1   \n12172        less1       gt8                  1~3            less1   \n\n      toCoupon_GEQ5min toCoupon_GEQ15min toCoupon_GEQ25min direction_same  \\\n852                  1                 0                 0              0   \n853                  1                 0                 0              0   \n854                  1                 0                 0              0   \n855                  1                 1                 0              0   \n856                  1                 0                 0              0   \n857                  1                 1                 0              0   \n1166                 1                 0                 0              0   \n1167                 1                 0                 0              0   \n1168                 1                 0                 0              0   \n1169                 1                 1                 0              0   \n1170                 1                 0                 0              0   \n1171                 1                 1                 0              0   \n2380                 1                 0                 0              0   \n2381                 1                 0                 0              0   \n2382                 1                 1                 0              0   \n2383                 1                 0                 0              0   \n2384                 1                 0                 0              0   \n2385                 1                 0                 0              0   \n3137                 1                 0                 0              0   \n3138                 1                 0                 0              0   \n3139                 1                 1                 0              0   \n3140                 1                 0                 0              0   \n3141                 1                 0                 0              0   \n3142                 1                 0                 0              0   \n12152                1                 0                 0              0   \n12153                1                 1                 0              0   \n12154                1                 1                 0              0   \n12155                1                 0                 0              0   \n12156                1                 0                 0              0   \n12157                1                 1                 0              0   \n12158                1                 0                 0              0   \n12159                1                 0                 0              0   \n12160                1                 1                 0              0   \n12161                1                 1                 0              1   \n12162                1                 0                 0              0   \n12163                1                 0                 0              1   \n12164                1                 1                 0              0   \n12165                1                 1                 1              0   \n12166                1                 0                 0              1   \n12167                1                 0                 0              0   \n12168                1                 0                 0              1   \n12169                1                 0                 0              0   \n12170                1                 0                 0              1   \n12171                1                 1                 1              0   \n12172                1                 0                 0              1   \n\n      direction_opp  Y  \n852               1  1  \n853               1  1  \n854               1  0  \n855               1  1  \n856               1  1  \n857               1  1  \n1166              1  1  \n1167              1  1  \n1168              1  1  \n1169              1  0  \n1170              1  1  \n1171              1  1  \n2380              1  1  \n2381              1  0  \n2382              1  1  \n2383              1  0  \n2384              1  0  \n2385              1  1  \n3137              1  0  \n3138              1  1  \n3139              1  1  \n3140              1  0  \n3141              1  1  \n3142              1  1  \n12152             1  0  \n12153             1  0  \n12154             1  0  \n12155             1  0  \n12156             1  0  \n12157             1  0  \n12158             1  0  \n12159             1  0  \n12160             1  0  \n12161             0  0  \n12162             1  0  \n12163             0  0  \n12164             1  0  \n12165             1  0  \n12166             0  0  \n12167             1  0  \n12168             0  0  \n12169             1  0  \n12170             0  1  \n12171             1  0  \n12172             0  0  \n\n[45 rows x 26 columns]",
      "text/html": "<div>\n<style scoped>\n    .dataframe tbody tr th:only-of-type {\n        vertical-align: middle;\n    }\n\n    .dataframe tbody tr th {\n        vertical-align: top;\n    }\n\n    .dataframe thead th {\n        text-align: right;\n    }\n</style>\n<table border=\"1\" class=\"dataframe\">\n  <thead>\n    <tr style=\"text-align: right;\">\n      <th></th>\n      <th>destination</th>\n      <th>passanger</th>\n      <th>weather</th>\n      <th>temperature</th>\n      <th>time</th>\n      <th>coupon</th>\n      <th>expiration</th>\n      <th>gender</th>\n      <th>age</th>\n      <th>maritalStatus</th>\n      <th>...</th>\n      <th>CoffeeHouse</th>\n      <th>CarryAway</th>\n      <th>RestaurantLessThan20</th>\n      <th>Restaurant20To50</th>\n      <th>toCoupon_GEQ5min</th>\n      <th>toCoupon_GEQ15min</th>\n      <th>toCoupon_GEQ25min</th>\n      <th>direction_same</th>\n      <th>direction_opp</th>\n      <th>Y</th>\n    </tr>\n  </thead>\n  <tbody>\n    <tr>\n      <th>852</th>\n      <td>No Urgent Place</td>\n      <td>Partner</td>\n      <td>Sunny</td>\n      <td>80</td>\n      <td>10AM</td>\n      <td>Coffee House</td>\n      <td>2h</td>\n      <td>Male</td>\n      <td>41</td>\n      <td>Married partner</td>\n      <td>...</td>\n      <td>NaN</td>\n      <td>NaN</td>\n      <td>NaN</td>\n      <td>NaN</td>\n      <td>1</td>\n      <td>0</td>\n      <td>0</td>\n      <td>0</td>\n      <td>1</td>\n      <td>1</td>\n    </tr>\n    <tr>\n      <th>853</th>\n      <td>No Urgent Place</td>\n      <td>Partner</td>\n      <td>Sunny</td>\n      <td>80</td>\n      <td>10AM</td>\n      <td>Restaurant(20-50)</td>\n      <td>1d</td>\n      <td>Male</td>\n      <td>41</td>\n      <td>Married partner</td>\n      <td>...</td>\n      <td>NaN</td>\n      <td>NaN</td>\n      <td>NaN</td>\n      <td>NaN</td>\n      <td>1</td>\n      <td>0</td>\n      <td>0</td>\n      <td>0</td>\n      <td>1</td>\n      <td>1</td>\n    </tr>\n    <tr>\n      <th>854</th>\n      <td>No Urgent Place</td>\n      <td>Partner</td>\n      <td>Sunny</td>\n      <td>80</td>\n      <td>10AM</td>\n      <td>Bar</td>\n      <td>2h</td>\n      <td>Male</td>\n      <td>41</td>\n      <td>Married partner</td>\n      <td>...</td>\n      <td>NaN</td>\n      <td>NaN</td>\n      <td>NaN</td>\n      <td>NaN</td>\n      <td>1</td>\n      <td>0</td>\n      <td>0</td>\n      <td>0</td>\n      <td>1</td>\n      <td>0</td>\n    </tr>\n    <tr>\n      <th>855</th>\n      <td>No Urgent Place</td>\n      <td>Partner</td>\n      <td>Sunny</td>\n      <td>80</td>\n      <td>10AM</td>\n      <td>Coffee House</td>\n      <td>2h</td>\n      <td>Male</td>\n      <td>41</td>\n      <td>Married partner</td>\n      <td>...</td>\n      <td>NaN</td>\n      <td>NaN</td>\n      <td>NaN</td>\n      <td>NaN</td>\n      <td>1</td>\n      <td>1</td>\n      <td>0</td>\n      <td>0</td>\n      <td>1</td>\n      <td>1</td>\n    </tr>\n    <tr>\n      <th>856</th>\n      <td>No Urgent Place</td>\n      <td>Partner</td>\n      <td>Sunny</td>\n      <td>80</td>\n      <td>6PM</td>\n      <td>Restaurant(&lt;20)</td>\n      <td>2h</td>\n      <td>Male</td>\n      <td>41</td>\n      <td>Married partner</td>\n      <td>...</td>\n      <td>NaN</td>\n      <td>NaN</td>\n      <td>NaN</td>\n      <td>NaN</td>\n      <td>1</td>\n      <td>0</td>\n      <td>0</td>\n      <td>0</td>\n      <td>1</td>\n      <td>1</td>\n    </tr>\n    <tr>\n      <th>857</th>\n      <td>No Urgent Place</td>\n      <td>Partner</td>\n      <td>Sunny</td>\n      <td>80</td>\n      <td>6PM</td>\n      <td>Bar</td>\n      <td>1d</td>\n      <td>Male</td>\n      <td>41</td>\n      <td>Married partner</td>\n      <td>...</td>\n      <td>NaN</td>\n      <td>NaN</td>\n      <td>NaN</td>\n      <td>NaN</td>\n      <td>1</td>\n      <td>1</td>\n      <td>0</td>\n      <td>0</td>\n      <td>1</td>\n      <td>1</td>\n    </tr>\n    <tr>\n      <th>1166</th>\n      <td>No Urgent Place</td>\n      <td>Partner</td>\n      <td>Sunny</td>\n      <td>80</td>\n      <td>10AM</td>\n      <td>Coffee House</td>\n      <td>2h</td>\n      <td>Male</td>\n      <td>26</td>\n      <td>Unmarried partner</td>\n      <td>...</td>\n      <td>NaN</td>\n      <td>NaN</td>\n      <td>NaN</td>\n      <td>NaN</td>\n      <td>1</td>\n      <td>0</td>\n      <td>0</td>\n      <td>0</td>\n      <td>1</td>\n      <td>1</td>\n    </tr>\n    <tr>\n      <th>1167</th>\n      <td>No Urgent Place</td>\n      <td>Partner</td>\n      <td>Sunny</td>\n      <td>80</td>\n      <td>10AM</td>\n      <td>Restaurant(20-50)</td>\n      <td>1d</td>\n      <td>Male</td>\n      <td>26</td>\n      <td>Unmarried partner</td>\n      <td>...</td>\n      <td>NaN</td>\n      <td>NaN</td>\n      <td>NaN</td>\n      <td>NaN</td>\n      <td>1</td>\n      <td>0</td>\n      <td>0</td>\n      <td>0</td>\n      <td>1</td>\n      <td>1</td>\n    </tr>\n    <tr>\n      <th>1168</th>\n      <td>No Urgent Place</td>\n      <td>Partner</td>\n      <td>Sunny</td>\n      <td>80</td>\n      <td>10AM</td>\n      <td>Bar</td>\n      <td>2h</td>\n      <td>Male</td>\n      <td>26</td>\n      <td>Unmarried partner</td>\n      <td>...</td>\n      <td>NaN</td>\n      <td>NaN</td>\n      <td>NaN</td>\n      <td>NaN</td>\n      <td>1</td>\n      <td>0</td>\n      <td>0</td>\n      <td>0</td>\n      <td>1</td>\n      <td>1</td>\n    </tr>\n    <tr>\n      <th>1169</th>\n      <td>No Urgent Place</td>\n      <td>Partner</td>\n      <td>Sunny</td>\n      <td>80</td>\n      <td>10AM</td>\n      <td>Coffee House</td>\n      <td>2h</td>\n      <td>Male</td>\n      <td>26</td>\n      <td>Unmarried partner</td>\n      <td>...</td>\n      <td>NaN</td>\n      <td>NaN</td>\n      <td>NaN</td>\n      <td>NaN</td>\n      <td>1</td>\n      <td>1</td>\n      <td>0</td>\n      <td>0</td>\n      <td>1</td>\n      <td>0</td>\n    </tr>\n    <tr>\n      <th>1170</th>\n      <td>No Urgent Place</td>\n      <td>Partner</td>\n      <td>Sunny</td>\n      <td>80</td>\n      <td>6PM</td>\n      <td>Restaurant(&lt;20)</td>\n      <td>2h</td>\n      <td>Male</td>\n      <td>26</td>\n      <td>Unmarried partner</td>\n      <td>...</td>\n      <td>NaN</td>\n      <td>NaN</td>\n      <td>NaN</td>\n      <td>NaN</td>\n      <td>1</td>\n      <td>0</td>\n      <td>0</td>\n      <td>0</td>\n      <td>1</td>\n      <td>1</td>\n    </tr>\n    <tr>\n      <th>1171</th>\n      <td>No Urgent Place</td>\n      <td>Partner</td>\n      <td>Sunny</td>\n      <td>80</td>\n      <td>6PM</td>\n      <td>Bar</td>\n      <td>1d</td>\n      <td>Male</td>\n      <td>26</td>\n      <td>Unmarried partner</td>\n      <td>...</td>\n      <td>NaN</td>\n      <td>NaN</td>\n      <td>NaN</td>\n      <td>NaN</td>\n      <td>1</td>\n      <td>1</td>\n      <td>0</td>\n      <td>0</td>\n      <td>1</td>\n      <td>1</td>\n    </tr>\n    <tr>\n      <th>2380</th>\n      <td>No Urgent Place</td>\n      <td>Friend(s)</td>\n      <td>Sunny</td>\n      <td>80</td>\n      <td>10AM</td>\n      <td>Bar</td>\n      <td>1d</td>\n      <td>Male</td>\n      <td>26</td>\n      <td>Single</td>\n      <td>...</td>\n      <td>NaN</td>\n      <td>NaN</td>\n      <td>NaN</td>\n      <td>NaN</td>\n      <td>1</td>\n      <td>0</td>\n      <td>0</td>\n      <td>0</td>\n      <td>1</td>\n      <td>1</td>\n    </tr>\n    <tr>\n      <th>2381</th>\n      <td>No Urgent Place</td>\n      <td>Friend(s)</td>\n      <td>Sunny</td>\n      <td>80</td>\n      <td>2PM</td>\n      <td>Coffee House</td>\n      <td>1d</td>\n      <td>Male</td>\n      <td>26</td>\n      <td>Single</td>\n      <td>...</td>\n      <td>NaN</td>\n      <td>NaN</td>\n      <td>NaN</td>\n      <td>NaN</td>\n      <td>1</td>\n      <td>0</td>\n      <td>0</td>\n      <td>0</td>\n      <td>1</td>\n      <td>0</td>\n    </tr>\n    <tr>\n      <th>2382</th>\n      <td>No Urgent Place</td>\n      <td>Friend(s)</td>\n      <td>Sunny</td>\n      <td>80</td>\n      <td>2PM</td>\n      <td>Restaurant(&lt;20)</td>\n      <td>1d</td>\n      <td>Male</td>\n      <td>26</td>\n      <td>Single</td>\n      <td>...</td>\n      <td>NaN</td>\n      <td>NaN</td>\n      <td>NaN</td>\n      <td>NaN</td>\n      <td>1</td>\n      <td>1</td>\n      <td>0</td>\n      <td>0</td>\n      <td>1</td>\n      <td>1</td>\n    </tr>\n    <tr>\n      <th>2383</th>\n      <td>No Urgent Place</td>\n      <td>Friend(s)</td>\n      <td>Sunny</td>\n      <td>80</td>\n      <td>6PM</td>\n      <td>Coffee House</td>\n      <td>2h</td>\n      <td>Male</td>\n      <td>26</td>\n      <td>Single</td>\n      <td>...</td>\n      <td>NaN</td>\n      <td>NaN</td>\n      <td>NaN</td>\n      <td>NaN</td>\n      <td>1</td>\n      <td>0</td>\n      <td>0</td>\n      <td>0</td>\n      <td>1</td>\n      <td>0</td>\n    </tr>\n    <tr>\n      <th>2384</th>\n      <td>No Urgent Place</td>\n      <td>Friend(s)</td>\n      <td>Sunny</td>\n      <td>55</td>\n      <td>2PM</td>\n      <td>Coffee House</td>\n      <td>2h</td>\n      <td>Male</td>\n      <td>26</td>\n      <td>Single</td>\n      <td>...</td>\n      <td>NaN</td>\n      <td>NaN</td>\n      <td>NaN</td>\n      <td>NaN</td>\n      <td>1</td>\n      <td>0</td>\n      <td>0</td>\n      <td>0</td>\n      <td>1</td>\n      <td>0</td>\n    </tr>\n    <tr>\n      <th>2385</th>\n      <td>No Urgent Place</td>\n      <td>Alone</td>\n      <td>Sunny</td>\n      <td>55</td>\n      <td>10AM</td>\n      <td>Coffee House</td>\n      <td>2h</td>\n      <td>Male</td>\n      <td>26</td>\n      <td>Single</td>\n      <td>...</td>\n      <td>NaN</td>\n      <td>NaN</td>\n      <td>NaN</td>\n      <td>NaN</td>\n      <td>1</td>\n      <td>0</td>\n      <td>0</td>\n      <td>0</td>\n      <td>1</td>\n      <td>1</td>\n    </tr>\n    <tr>\n      <th>3137</th>\n      <td>No Urgent Place</td>\n      <td>Friend(s)</td>\n      <td>Sunny</td>\n      <td>80</td>\n      <td>10AM</td>\n      <td>Bar</td>\n      <td>1d</td>\n      <td>Male</td>\n      <td>21</td>\n      <td>Single</td>\n      <td>...</td>\n      <td>NaN</td>\n      <td>NaN</td>\n      <td>NaN</td>\n      <td>NaN</td>\n      <td>1</td>\n      <td>0</td>\n      <td>0</td>\n      <td>0</td>\n      <td>1</td>\n      <td>0</td>\n    </tr>\n    <tr>\n      <th>3138</th>\n      <td>No Urgent Place</td>\n      <td>Friend(s)</td>\n      <td>Sunny</td>\n      <td>80</td>\n      <td>2PM</td>\n      <td>Coffee House</td>\n      <td>1d</td>\n      <td>Male</td>\n      <td>21</td>\n      <td>Single</td>\n      <td>...</td>\n      <td>NaN</td>\n      <td>NaN</td>\n      <td>NaN</td>\n      <td>NaN</td>\n      <td>1</td>\n      <td>0</td>\n      <td>0</td>\n      <td>0</td>\n      <td>1</td>\n      <td>1</td>\n    </tr>\n    <tr>\n      <th>3139</th>\n      <td>No Urgent Place</td>\n      <td>Friend(s)</td>\n      <td>Sunny</td>\n      <td>80</td>\n      <td>2PM</td>\n      <td>Restaurant(&lt;20)</td>\n      <td>1d</td>\n      <td>Male</td>\n      <td>21</td>\n      <td>Single</td>\n      <td>...</td>\n      <td>NaN</td>\n      <td>NaN</td>\n      <td>NaN</td>\n      <td>NaN</td>\n      <td>1</td>\n      <td>1</td>\n      <td>0</td>\n      <td>0</td>\n      <td>1</td>\n      <td>1</td>\n    </tr>\n    <tr>\n      <th>3140</th>\n      <td>No Urgent Place</td>\n      <td>Friend(s)</td>\n      <td>Sunny</td>\n      <td>80</td>\n      <td>6PM</td>\n      <td>Coffee House</td>\n      <td>2h</td>\n      <td>Male</td>\n      <td>21</td>\n      <td>Single</td>\n      <td>...</td>\n      <td>NaN</td>\n      <td>NaN</td>\n      <td>NaN</td>\n      <td>NaN</td>\n      <td>1</td>\n      <td>0</td>\n      <td>0</td>\n      <td>0</td>\n      <td>1</td>\n      <td>0</td>\n    </tr>\n    <tr>\n      <th>3141</th>\n      <td>No Urgent Place</td>\n      <td>Friend(s)</td>\n      <td>Sunny</td>\n      <td>55</td>\n      <td>2PM</td>\n      <td>Coffee House</td>\n      <td>2h</td>\n      <td>Male</td>\n      <td>21</td>\n      <td>Single</td>\n      <td>...</td>\n      <td>NaN</td>\n      <td>NaN</td>\n      <td>NaN</td>\n      <td>NaN</td>\n      <td>1</td>\n      <td>0</td>\n      <td>0</td>\n      <td>0</td>\n      <td>1</td>\n      <td>1</td>\n    </tr>\n    <tr>\n      <th>3142</th>\n      <td>No Urgent Place</td>\n      <td>Alone</td>\n      <td>Sunny</td>\n      <td>55</td>\n      <td>10AM</td>\n      <td>Coffee House</td>\n      <td>2h</td>\n      <td>Male</td>\n      <td>21</td>\n      <td>Single</td>\n      <td>...</td>\n      <td>NaN</td>\n      <td>NaN</td>\n      <td>NaN</td>\n      <td>NaN</td>\n      <td>1</td>\n      <td>0</td>\n      <td>0</td>\n      <td>0</td>\n      <td>1</td>\n      <td>1</td>\n    </tr>\n    <tr>\n      <th>12152</th>\n      <td>No Urgent Place</td>\n      <td>Friend(s)</td>\n      <td>Sunny</td>\n      <td>80</td>\n      <td>6PM</td>\n      <td>Restaurant(&lt;20)</td>\n      <td>2h</td>\n      <td>Female</td>\n      <td>31</td>\n      <td>Single</td>\n      <td>...</td>\n      <td>less1</td>\n      <td>gt8</td>\n      <td>1~3</td>\n      <td>less1</td>\n      <td>1</td>\n      <td>0</td>\n      <td>0</td>\n      <td>0</td>\n      <td>1</td>\n      <td>0</td>\n    </tr>\n    <tr>\n      <th>12153</th>\n      <td>No Urgent Place</td>\n      <td>Friend(s)</td>\n      <td>Sunny</td>\n      <td>80</td>\n      <td>10PM</td>\n      <td>Bar</td>\n      <td>1d</td>\n      <td>Female</td>\n      <td>31</td>\n      <td>Single</td>\n      <td>...</td>\n      <td>less1</td>\n      <td>gt8</td>\n      <td>1~3</td>\n      <td>less1</td>\n      <td>1</td>\n      <td>1</td>\n      <td>0</td>\n      <td>0</td>\n      <td>1</td>\n      <td>0</td>\n    </tr>\n    <tr>\n      <th>12154</th>\n      <td>No Urgent Place</td>\n      <td>Friend(s)</td>\n      <td>Sunny</td>\n      <td>55</td>\n      <td>10PM</td>\n      <td>Bar</td>\n      <td>2h</td>\n      <td>Female</td>\n      <td>31</td>\n      <td>Single</td>\n      <td>...</td>\n      <td>less1</td>\n      <td>gt8</td>\n      <td>1~3</td>\n      <td>less1</td>\n      <td>1</td>\n      <td>1</td>\n      <td>0</td>\n      <td>0</td>\n      <td>1</td>\n      <td>0</td>\n    </tr>\n    <tr>\n      <th>12155</th>\n      <td>No Urgent Place</td>\n      <td>Friend(s)</td>\n      <td>Sunny</td>\n      <td>30</td>\n      <td>10AM</td>\n      <td>Carry out &amp; Take away</td>\n      <td>2h</td>\n      <td>Female</td>\n      <td>31</td>\n      <td>Single</td>\n      <td>...</td>\n      <td>less1</td>\n      <td>gt8</td>\n      <td>1~3</td>\n      <td>less1</td>\n      <td>1</td>\n      <td>0</td>\n      <td>0</td>\n      <td>0</td>\n      <td>1</td>\n      <td>0</td>\n    </tr>\n    <tr>\n      <th>12156</th>\n      <td>No Urgent Place</td>\n      <td>Friend(s)</td>\n      <td>Snowy</td>\n      <td>30</td>\n      <td>2PM</td>\n      <td>Restaurant(&lt;20)</td>\n      <td>1d</td>\n      <td>Female</td>\n      <td>31</td>\n      <td>Single</td>\n      <td>...</td>\n      <td>less1</td>\n      <td>gt8</td>\n      <td>1~3</td>\n      <td>less1</td>\n      <td>1</td>\n      <td>0</td>\n      <td>0</td>\n      <td>0</td>\n      <td>1</td>\n      <td>0</td>\n    </tr>\n    <tr>\n      <th>12157</th>\n      <td>No Urgent Place</td>\n      <td>Alone</td>\n      <td>Rainy</td>\n      <td>55</td>\n      <td>10AM</td>\n      <td>Bar</td>\n      <td>1d</td>\n      <td>Female</td>\n      <td>31</td>\n      <td>Single</td>\n      <td>...</td>\n      <td>less1</td>\n      <td>gt8</td>\n      <td>1~3</td>\n      <td>less1</td>\n      <td>1</td>\n      <td>1</td>\n      <td>0</td>\n      <td>0</td>\n      <td>1</td>\n      <td>0</td>\n    </tr>\n    <tr>\n      <th>12158</th>\n      <td>No Urgent Place</td>\n      <td>Alone</td>\n      <td>Rainy</td>\n      <td>55</td>\n      <td>2PM</td>\n      <td>Carry out &amp; Take away</td>\n      <td>2h</td>\n      <td>Female</td>\n      <td>31</td>\n      <td>Single</td>\n      <td>...</td>\n      <td>less1</td>\n      <td>gt8</td>\n      <td>1~3</td>\n      <td>less1</td>\n      <td>1</td>\n      <td>0</td>\n      <td>0</td>\n      <td>0</td>\n      <td>1</td>\n      <td>0</td>\n    </tr>\n    <tr>\n      <th>12159</th>\n      <td>No Urgent Place</td>\n      <td>Alone</td>\n      <td>Sunny</td>\n      <td>80</td>\n      <td>10AM</td>\n      <td>Restaurant(&lt;20)</td>\n      <td>2h</td>\n      <td>Female</td>\n      <td>31</td>\n      <td>Single</td>\n      <td>...</td>\n      <td>less1</td>\n      <td>gt8</td>\n      <td>1~3</td>\n      <td>less1</td>\n      <td>1</td>\n      <td>0</td>\n      <td>0</td>\n      <td>0</td>\n      <td>1</td>\n      <td>0</td>\n    </tr>\n    <tr>\n      <th>12160</th>\n      <td>No Urgent Place</td>\n      <td>Alone</td>\n      <td>Snowy</td>\n      <td>30</td>\n      <td>10AM</td>\n      <td>Restaurant(&lt;20)</td>\n      <td>1d</td>\n      <td>Female</td>\n      <td>31</td>\n      <td>Single</td>\n      <td>...</td>\n      <td>less1</td>\n      <td>gt8</td>\n      <td>1~3</td>\n      <td>less1</td>\n      <td>1</td>\n      <td>1</td>\n      <td>0</td>\n      <td>0</td>\n      <td>1</td>\n      <td>0</td>\n    </tr>\n    <tr>\n      <th>12161</th>\n      <td>Home</td>\n      <td>Alone</td>\n      <td>Sunny</td>\n      <td>80</td>\n      <td>6PM</td>\n      <td>Carry out &amp; Take away</td>\n      <td>2h</td>\n      <td>Female</td>\n      <td>31</td>\n      <td>Single</td>\n      <td>...</td>\n      <td>less1</td>\n      <td>gt8</td>\n      <td>1~3</td>\n      <td>less1</td>\n      <td>1</td>\n      <td>1</td>\n      <td>0</td>\n      <td>1</td>\n      <td>0</td>\n      <td>0</td>\n    </tr>\n    <tr>\n      <th>12162</th>\n      <td>Home</td>\n      <td>Alone</td>\n      <td>Sunny</td>\n      <td>30</td>\n      <td>6PM</td>\n      <td>Carry out &amp; Take away</td>\n      <td>1d</td>\n      <td>Female</td>\n      <td>31</td>\n      <td>Single</td>\n      <td>...</td>\n      <td>less1</td>\n      <td>gt8</td>\n      <td>1~3</td>\n      <td>less1</td>\n      <td>1</td>\n      <td>0</td>\n      <td>0</td>\n      <td>0</td>\n      <td>1</td>\n      <td>0</td>\n    </tr>\n    <tr>\n      <th>12163</th>\n      <td>Home</td>\n      <td>Alone</td>\n      <td>Rainy</td>\n      <td>55</td>\n      <td>10PM</td>\n      <td>Coffee House</td>\n      <td>2h</td>\n      <td>Female</td>\n      <td>31</td>\n      <td>Single</td>\n      <td>...</td>\n      <td>less1</td>\n      <td>gt8</td>\n      <td>1~3</td>\n      <td>less1</td>\n      <td>1</td>\n      <td>0</td>\n      <td>0</td>\n      <td>1</td>\n      <td>0</td>\n      <td>0</td>\n    </tr>\n    <tr>\n      <th>12164</th>\n      <td>Home</td>\n      <td>Alone</td>\n      <td>Snowy</td>\n      <td>30</td>\n      <td>10PM</td>\n      <td>Coffee House</td>\n      <td>2h</td>\n      <td>Female</td>\n      <td>31</td>\n      <td>Single</td>\n      <td>...</td>\n      <td>less1</td>\n      <td>gt8</td>\n      <td>1~3</td>\n      <td>less1</td>\n      <td>1</td>\n      <td>1</td>\n      <td>0</td>\n      <td>0</td>\n      <td>1</td>\n      <td>0</td>\n    </tr>\n    <tr>\n      <th>12165</th>\n      <td>Home</td>\n      <td>Alone</td>\n      <td>Snowy</td>\n      <td>30</td>\n      <td>10PM</td>\n      <td>Carry out &amp; Take away</td>\n      <td>1d</td>\n      <td>Female</td>\n      <td>31</td>\n      <td>Single</td>\n      <td>...</td>\n      <td>less1</td>\n      <td>gt8</td>\n      <td>1~3</td>\n      <td>less1</td>\n      <td>1</td>\n      <td>1</td>\n      <td>1</td>\n      <td>0</td>\n      <td>1</td>\n      <td>0</td>\n    </tr>\n    <tr>\n      <th>12166</th>\n      <td>Home</td>\n      <td>Alone</td>\n      <td>Sunny</td>\n      <td>80</td>\n      <td>6PM</td>\n      <td>Restaurant(20-50)</td>\n      <td>1d</td>\n      <td>Female</td>\n      <td>31</td>\n      <td>Single</td>\n      <td>...</td>\n      <td>less1</td>\n      <td>gt8</td>\n      <td>1~3</td>\n      <td>less1</td>\n      <td>1</td>\n      <td>0</td>\n      <td>0</td>\n      <td>1</td>\n      <td>0</td>\n      <td>0</td>\n    </tr>\n    <tr>\n      <th>12167</th>\n      <td>Home</td>\n      <td>Alone</td>\n      <td>Sunny</td>\n      <td>80</td>\n      <td>10PM</td>\n      <td>Restaurant(20-50)</td>\n      <td>1d</td>\n      <td>Female</td>\n      <td>31</td>\n      <td>Single</td>\n      <td>...</td>\n      <td>less1</td>\n      <td>gt8</td>\n      <td>1~3</td>\n      <td>less1</td>\n      <td>1</td>\n      <td>0</td>\n      <td>0</td>\n      <td>0</td>\n      <td>1</td>\n      <td>0</td>\n    </tr>\n    <tr>\n      <th>12168</th>\n      <td>Work</td>\n      <td>Alone</td>\n      <td>Rainy</td>\n      <td>55</td>\n      <td>7AM</td>\n      <td>Restaurant(&lt;20)</td>\n      <td>2h</td>\n      <td>Female</td>\n      <td>31</td>\n      <td>Single</td>\n      <td>...</td>\n      <td>less1</td>\n      <td>gt8</td>\n      <td>1~3</td>\n      <td>less1</td>\n      <td>1</td>\n      <td>0</td>\n      <td>0</td>\n      <td>1</td>\n      <td>0</td>\n      <td>0</td>\n    </tr>\n    <tr>\n      <th>12169</th>\n      <td>Work</td>\n      <td>Alone</td>\n      <td>Rainy</td>\n      <td>55</td>\n      <td>7AM</td>\n      <td>Carry out &amp; Take away</td>\n      <td>1d</td>\n      <td>Female</td>\n      <td>31</td>\n      <td>Single</td>\n      <td>...</td>\n      <td>less1</td>\n      <td>gt8</td>\n      <td>1~3</td>\n      <td>less1</td>\n      <td>1</td>\n      <td>0</td>\n      <td>0</td>\n      <td>0</td>\n      <td>1</td>\n      <td>0</td>\n    </tr>\n    <tr>\n      <th>12170</th>\n      <td>Work</td>\n      <td>Alone</td>\n      <td>Snowy</td>\n      <td>30</td>\n      <td>7AM</td>\n      <td>Coffee House</td>\n      <td>1d</td>\n      <td>Female</td>\n      <td>31</td>\n      <td>Single</td>\n      <td>...</td>\n      <td>less1</td>\n      <td>gt8</td>\n      <td>1~3</td>\n      <td>less1</td>\n      <td>1</td>\n      <td>0</td>\n      <td>0</td>\n      <td>1</td>\n      <td>0</td>\n      <td>1</td>\n    </tr>\n    <tr>\n      <th>12171</th>\n      <td>Work</td>\n      <td>Alone</td>\n      <td>Snowy</td>\n      <td>30</td>\n      <td>7AM</td>\n      <td>Bar</td>\n      <td>1d</td>\n      <td>Female</td>\n      <td>31</td>\n      <td>Single</td>\n      <td>...</td>\n      <td>less1</td>\n      <td>gt8</td>\n      <td>1~3</td>\n      <td>less1</td>\n      <td>1</td>\n      <td>1</td>\n      <td>1</td>\n      <td>0</td>\n      <td>1</td>\n      <td>0</td>\n    </tr>\n    <tr>\n      <th>12172</th>\n      <td>Work</td>\n      <td>Alone</td>\n      <td>Sunny</td>\n      <td>80</td>\n      <td>7AM</td>\n      <td>Restaurant(20-50)</td>\n      <td>2h</td>\n      <td>Female</td>\n      <td>31</td>\n      <td>Single</td>\n      <td>...</td>\n      <td>less1</td>\n      <td>gt8</td>\n      <td>1~3</td>\n      <td>less1</td>\n      <td>1</td>\n      <td>0</td>\n      <td>0</td>\n      <td>1</td>\n      <td>0</td>\n      <td>0</td>\n    </tr>\n  </tbody>\n</table>\n<p>45 rows × 26 columns</p>\n</div>"
     },
     "execution_count": 97,
     "metadata": {},
     "output_type": "execute_result"
    }
   ],
   "source": [
    "# tmp_dataset.query( 'has_children == 0 & Bar == \"never\"', engine='python')\n",
    "tmp_dataset.query( 'Bar.isnull() & has_children == 0', engine='python')"
   ],
   "metadata": {
    "collapsed": false,
    "ExecuteTime": {
     "end_time": "2023-07-08T18:05:54.269363100Z",
     "start_time": "2023-07-08T18:05:54.252323300Z"
    }
   }
  },
  {
   "cell_type": "code",
   "execution_count": 100,
   "outputs": [
    {
     "data": {
      "text/plain": "<Axes: xlabel='Bar', ylabel='Count'>"
     },
     "execution_count": 100,
     "metadata": {},
     "output_type": "execute_result"
    },
    {
     "data": {
      "text/plain": "<Figure size 432x288 with 1 Axes>",
      "image/png": "[encoded data removed]"
     },
     "metadata": {
      "needs_background": "light"
     },
     "output_type": "display_data"
    }
   ],
   "source": [
    "sns.histplot(data=tmp_dataset[tmp_dataset['has_children'] == 0], x=\"Bar\")"
   ],
   "metadata": {
    "collapsed": false,
    "ExecuteTime": {
     "end_time": "2023-07-08T18:07:31.125809900Z",
     "start_time": "2023-07-08T18:07:30.983115800Z"
    }
   }
  },
  {
   "cell_type": "code",
   "execution_count": 103,
   "outputs": [
    {
     "data": {
      "text/plain": "           destination  passanger weather  temperature  time  \\\n852    No Urgent Place    Partner   Sunny           80  10AM   \n853    No Urgent Place    Partner   Sunny           80  10AM   \n854    No Urgent Place    Partner   Sunny           80  10AM   \n855    No Urgent Place    Partner   Sunny           80  10AM   \n856    No Urgent Place    Partner   Sunny           80   6PM   \n857    No Urgent Place    Partner   Sunny           80   6PM   \n1166   No Urgent Place    Partner   Sunny           80  10AM   \n1167   No Urgent Place    Partner   Sunny           80  10AM   \n1168   No Urgent Place    Partner   Sunny           80  10AM   \n1169   No Urgent Place    Partner   Sunny           80  10AM   \n1170   No Urgent Place    Partner   Sunny           80   6PM   \n1171   No Urgent Place    Partner   Sunny           80   6PM   \n2380   No Urgent Place  Friend(s)   Sunny           80  10AM   \n2381   No Urgent Place  Friend(s)   Sunny           80   2PM   \n2382   No Urgent Place  Friend(s)   Sunny           80   2PM   \n2383   No Urgent Place  Friend(s)   Sunny           80   6PM   \n2384   No Urgent Place  Friend(s)   Sunny           55   2PM   \n2385   No Urgent Place      Alone   Sunny           55  10AM   \n3137   No Urgent Place  Friend(s)   Sunny           80  10AM   \n3138   No Urgent Place  Friend(s)   Sunny           80   2PM   \n3139   No Urgent Place  Friend(s)   Sunny           80   2PM   \n3140   No Urgent Place  Friend(s)   Sunny           80   6PM   \n3141   No Urgent Place  Friend(s)   Sunny           55   2PM   \n3142   No Urgent Place      Alone   Sunny           55  10AM   \n12152  No Urgent Place  Friend(s)   Sunny           80   6PM   \n12153  No Urgent Place  Friend(s)   Sunny           80  10PM   \n12154  No Urgent Place  Friend(s)   Sunny           55  10PM   \n12155  No Urgent Place  Friend(s)   Sunny           30  10AM   \n12156  No Urgent Place  Friend(s)   Snowy           30   2PM   \n12157  No Urgent Place      Alone   Rainy           55  10AM   \n12158  No Urgent Place      Alone   Rainy           55   2PM   \n12159  No Urgent Place      Alone   Sunny           80  10AM   \n12160  No Urgent Place      Alone   Snowy           30  10AM   \n12161             Home      Alone   Sunny           80   6PM   \n12162             Home      Alone   Sunny           30   6PM   \n12163             Home      Alone   Rainy           55  10PM   \n12164             Home      Alone   Snowy           30  10PM   \n12165             Home      Alone   Snowy           30  10PM   \n12166             Home      Alone   Sunny           80   6PM   \n12167             Home      Alone   Sunny           80  10PM   \n12168             Work      Alone   Rainy           55   7AM   \n12169             Work      Alone   Rainy           55   7AM   \n12170             Work      Alone   Snowy           30   7AM   \n12171             Work      Alone   Snowy           30   7AM   \n12172             Work      Alone   Sunny           80   7AM   \n\n                      coupon expiration  gender age      maritalStatus  ...  \\\n852             Coffee House         2h    Male  41    Married partner  ...   \n853        Restaurant(20-50)         1d    Male  41    Married partner  ...   \n854                      Bar         2h    Male  41    Married partner  ...   \n855             Coffee House         2h    Male  41    Married partner  ...   \n856          Restaurant(<20)         2h    Male  41    Married partner  ...   \n857                      Bar         1d    Male  41    Married partner  ...   \n1166            Coffee House         2h    Male  26  Unmarried partner  ...   \n1167       Restaurant(20-50)         1d    Male  26  Unmarried partner  ...   \n1168                     Bar         2h    Male  26  Unmarried partner  ...   \n1169            Coffee House         2h    Male  26  Unmarried partner  ...   \n1170         Restaurant(<20)         2h    Male  26  Unmarried partner  ...   \n1171                     Bar         1d    Male  26  Unmarried partner  ...   \n2380                     Bar         1d    Male  26             Single  ...   \n2381            Coffee House         1d    Male  26             Single  ...   \n2382         Restaurant(<20)         1d    Male  26             Single  ...   \n2383            Coffee House         2h    Male  26             Single  ...   \n2384            Coffee House         2h    Male  26             Single  ...   \n2385            Coffee House         2h    Male  26             Single  ...   \n3137                     Bar         1d    Male  21             Single  ...   \n3138            Coffee House         1d    Male  21             Single  ...   \n3139         Restaurant(<20)         1d    Male  21             Single  ...   \n3140            Coffee House         2h    Male  21             Single  ...   \n3141            Coffee House         2h    Male  21             Single  ...   \n3142            Coffee House         2h    Male  21             Single  ...   \n12152        Restaurant(<20)         2h  Female  31             Single  ...   \n12153                    Bar         1d  Female  31             Single  ...   \n12154                    Bar         2h  Female  31             Single  ...   \n12155  Carry out & Take away         2h  Female  31             Single  ...   \n12156        Restaurant(<20)         1d  Female  31             Single  ...   \n12157                    Bar         1d  Female  31             Single  ...   \n12158  Carry out & Take away         2h  Female  31             Single  ...   \n12159        Restaurant(<20)         2h  Female  31             Single  ...   \n12160        Restaurant(<20)         1d  Female  31             Single  ...   \n12161  Carry out & Take away         2h  Female  31             Single  ...   \n12162  Carry out & Take away         1d  Female  31             Single  ...   \n12163           Coffee House         2h  Female  31             Single  ...   \n12164           Coffee House         2h  Female  31             Single  ...   \n12165  Carry out & Take away         1d  Female  31             Single  ...   \n12166      Restaurant(20-50)         1d  Female  31             Single  ...   \n12167      Restaurant(20-50)         1d  Female  31             Single  ...   \n12168        Restaurant(<20)         2h  Female  31             Single  ...   \n12169  Carry out & Take away         1d  Female  31             Single  ...   \n12170           Coffee House         1d  Female  31             Single  ...   \n12171                    Bar         1d  Female  31             Single  ...   \n12172      Restaurant(20-50)         2h  Female  31             Single  ...   \n\n       CoffeeHouse CarryAway RestaurantLessThan20 Restaurant20To50  \\\n852            NaN       NaN                  NaN              NaN   \n853            NaN       NaN                  NaN              NaN   \n854            NaN       NaN                  NaN              NaN   \n855            NaN       NaN                  NaN              NaN   \n856            NaN       NaN                  NaN              NaN   \n857            NaN       NaN                  NaN              NaN   \n1166           NaN       NaN                  NaN              NaN   \n1167           NaN       NaN                  NaN              NaN   \n1168           NaN       NaN                  NaN              NaN   \n1169           NaN       NaN                  NaN              NaN   \n1170           NaN       NaN                  NaN              NaN   \n1171           NaN       NaN                  NaN              NaN   \n2380           NaN       NaN                  NaN              NaN   \n2381           NaN       NaN                  NaN              NaN   \n2382           NaN       NaN                  NaN              NaN   \n2383           NaN       NaN                  NaN              NaN   \n2384           NaN       NaN                  NaN              NaN   \n2385           NaN       NaN                  NaN              NaN   \n3137           NaN       NaN                  NaN              NaN   \n3138           NaN       NaN                  NaN              NaN   \n3139           NaN       NaN                  NaN              NaN   \n3140           NaN       NaN                  NaN              NaN   \n3141           NaN       NaN                  NaN              NaN   \n3142           NaN       NaN                  NaN              NaN   \n12152        less1       gt8                  1~3            less1   \n12153        less1       gt8                  1~3            less1   \n12154        less1       gt8                  1~3            less1   \n12155        less1       gt8                  1~3            less1   \n12156        less1       gt8                  1~3            less1   \n12157        less1       gt8                  1~3            less1   \n12158        less1       gt8                  1~3            less1   \n12159        less1       gt8                  1~3            less1   \n12160        less1       gt8                  1~3            less1   \n12161        less1       gt8                  1~3            less1   \n12162        less1       gt8                  1~3            less1   \n12163        less1       gt8                  1~3            less1   \n12164        less1       gt8                  1~3            less1   \n12165        less1       gt8                  1~3            less1   \n12166        less1       gt8                  1~3            less1   \n12167        less1       gt8                  1~3            less1   \n12168        less1       gt8                  1~3            less1   \n12169        less1       gt8                  1~3            less1   \n12170        less1       gt8                  1~3            less1   \n12171        less1       gt8                  1~3            less1   \n12172        less1       gt8                  1~3            less1   \n\n      toCoupon_GEQ5min toCoupon_GEQ15min toCoupon_GEQ25min direction_same  \\\n852                  1                 0                 0              0   \n853                  1                 0                 0              0   \n854                  1                 0                 0              0   \n855                  1                 1                 0              0   \n856                  1                 0                 0              0   \n857                  1                 1                 0              0   \n1166                 1                 0                 0              0   \n1167                 1                 0                 0              0   \n1168                 1                 0                 0              0   \n1169                 1                 1                 0              0   \n1170                 1                 0                 0              0   \n1171                 1                 1                 0              0   \n2380                 1                 0                 0              0   \n2381                 1                 0                 0              0   \n2382                 1                 1                 0              0   \n2383                 1                 0                 0              0   \n2384                 1                 0                 0              0   \n2385                 1                 0                 0              0   \n3137                 1                 0                 0              0   \n3138                 1                 0                 0              0   \n3139                 1                 1                 0              0   \n3140                 1                 0                 0              0   \n3141                 1                 0                 0              0   \n3142                 1                 0                 0              0   \n12152                1                 0                 0              0   \n12153                1                 1                 0              0   \n12154                1                 1                 0              0   \n12155                1                 0                 0              0   \n12156                1                 0                 0              0   \n12157                1                 1                 0              0   \n12158                1                 0                 0              0   \n12159                1                 0                 0              0   \n12160                1                 1                 0              0   \n12161                1                 1                 0              1   \n12162                1                 0                 0              0   \n12163                1                 0                 0              1   \n12164                1                 1                 0              0   \n12165                1                 1                 1              0   \n12166                1                 0                 0              1   \n12167                1                 0                 0              0   \n12168                1                 0                 0              1   \n12169                1                 0                 0              0   \n12170                1                 0                 0              1   \n12171                1                 1                 1              0   \n12172                1                 0                 0              1   \n\n      direction_opp  Y  \n852               1  1  \n853               1  1  \n854               1  0  \n855               1  1  \n856               1  1  \n857               1  1  \n1166              1  1  \n1167              1  1  \n1168              1  1  \n1169              1  0  \n1170              1  1  \n1171              1  1  \n2380              1  1  \n2381              1  0  \n2382              1  1  \n2383              1  0  \n2384              1  0  \n2385              1  1  \n3137              1  0  \n3138              1  1  \n3139              1  1  \n3140              1  0  \n3141              1  1  \n3142              1  1  \n12152             1  0  \n12153             1  0  \n12154             1  0  \n12155             1  0  \n12156             1  0  \n12157             1  0  \n12158             1  0  \n12159             1  0  \n12160             1  0  \n12161             0  0  \n12162             1  0  \n12163             0  0  \n12164             1  0  \n12165             1  0  \n12166             0  0  \n12167             1  0  \n12168             0  0  \n12169             1  0  \n12170             0  1  \n12171             1  0  \n12172             0  0  \n\n[45 rows x 26 columns]",
      "text/html": "<div>\n<style scoped>\n    .dataframe tbody tr th:only-of-type {\n        vertical-align: middle;\n    }\n\n    .dataframe tbody tr th {\n        vertical-align: top;\n    }\n\n    .dataframe thead th {\n        text-align: right;\n    }\n</style>\n<table border=\"1\" class=\"dataframe\">\n  <thead>\n    <tr style=\"text-align: right;\">\n      <th></th>\n      <th>destination</th>\n      <th>passanger</th>\n      <th>weather</th>\n      <th>temperature</th>\n      <th>time</th>\n      <th>coupon</th>\n      <th>expiration</th>\n      <th>gender</th>\n      <th>age</th>\n      <th>maritalStatus</th>\n      <th>...</th>\n      <th>CoffeeHouse</th>\n      <th>CarryAway</th>\n      <th>RestaurantLessThan20</th>\n      <th>Restaurant20To50</th>\n      <th>toCoupon_GEQ5min</th>\n      <th>toCoupon_GEQ15min</th>\n      <th>toCoupon_GEQ25min</th>\n      <th>direction_same</th>\n      <th>direction_opp</th>\n      <th>Y</th>\n    </tr>\n  </thead>\n  <tbody>\n    <tr>\n      <th>852</th>\n      <td>No Urgent Place</td>\n      <td>Partner</td>\n      <td>Sunny</td>\n      <td>80</td>\n      <td>10AM</td>\n      <td>Coffee House</td>\n      <td>2h</td>\n      <td>Male</td>\n      <td>41</td>\n      <td>Married partner</td>\n      <td>...</td>\n      <td>NaN</td>\n      <td>NaN</td>\n      <td>NaN</td>\n      <td>NaN</td>\n      <td>1</td>\n      <td>0</td>\n      <td>0</td>\n      <td>0</td>\n      <td>1</td>\n      <td>1</td>\n    </tr>\n    <tr>\n      <th>853</th>\n      <td>No Urgent Place</td>\n      <td>Partner</td>\n      <td>Sunny</td>\n      <td>80</td>\n      <td>10AM</td>\n      <td>Restaurant(20-50)</td>\n      <td>1d</td>\n      <td>Male</td>\n      <td>41</td>\n      <td>Married partner</td>\n      <td>...</td>\n      <td>NaN</td>\n      <td>NaN</td>\n      <td>NaN</td>\n      <td>NaN</td>\n      <td>1</td>\n      <td>0</td>\n      <td>0</td>\n      <td>0</td>\n      <td>1</td>\n      <td>1</td>\n    </tr>\n    <tr>\n      <th>854</th>\n      <td>No Urgent Place</td>\n      <td>Partner</td>\n      <td>Sunny</td>\n      <td>80</td>\n      <td>10AM</td>\n      <td>Bar</td>\n      <td>2h</td>\n      <td>Male</td>\n      <td>41</td>\n      <td>Married partner</td>\n      <td>...</td>\n      <td>NaN</td>\n      <td>NaN</td>\n      <td>NaN</td>\n      <td>NaN</td>\n      <td>1</td>\n      <td>0</td>\n      <td>0</td>\n      <td>0</td>\n      <td>1</td>\n      <td>0</td>\n    </tr>\n    <tr>\n      <th>855</th>\n      <td>No Urgent Place</td>\n      <td>Partner</td>\n      <td>Sunny</td>\n      <td>80</td>\n      <td>10AM</td>\n      <td>Coffee House</td>\n      <td>2h</td>\n      <td>Male</td>\n      <td>41</td>\n      <td>Married partner</td>\n      <td>...</td>\n      <td>NaN</td>\n      <td>NaN</td>\n      <td>NaN</td>\n      <td>NaN</td>\n      <td>1</td>\n      <td>1</td>\n      <td>0</td>\n      <td>0</td>\n      <td>1</td>\n      <td>1</td>\n    </tr>\n    <tr>\n      <th>856</th>\n      <td>No Urgent Place</td>\n      <td>Partner</td>\n      <td>Sunny</td>\n      <td>80</td>\n      <td>6PM</td>\n      <td>Restaurant(&lt;20)</td>\n      <td>2h</td>\n      <td>Male</td>\n      <td>41</td>\n      <td>Married partner</td>\n      <td>...</td>\n      <td>NaN</td>\n      <td>NaN</td>\n      <td>NaN</td>\n      <td>NaN</td>\n      <td>1</td>\n      <td>0</td>\n      <td>0</td>\n      <td>0</td>\n      <td>1</td>\n      <td>1</td>\n    </tr>\n    <tr>\n      <th>857</th>\n      <td>No Urgent Place</td>\n      <td>Partner</td>\n      <td>Sunny</td>\n      <td>80</td>\n      <td>6PM</td>\n      <td>Bar</td>\n      <td>1d</td>\n      <td>Male</td>\n      <td>41</td>\n      <td>Married partner</td>\n      <td>...</td>\n      <td>NaN</td>\n      <td>NaN</td>\n      <td>NaN</td>\n      <td>NaN</td>\n      <td>1</td>\n      <td>1</td>\n      <td>0</td>\n      <td>0</td>\n      <td>1</td>\n      <td>1</td>\n    </tr>\n    <tr>\n      <th>1166</th>\n      <td>No Urgent Place</td>\n      <td>Partner</td>\n      <td>Sunny</td>\n      <td>80</td>\n      <td>10AM</td>\n      <td>Coffee House</td>\n      <td>2h</td>\n      <td>Male</td>\n      <td>26</td>\n      <td>Unmarried partner</td>\n      <td>...</td>\n      <td>NaN</td>\n      <td>NaN</td>\n      <td>NaN</td>\n      <td>NaN</td>\n      <td>1</td>\n      <td>0</td>\n      <td>0</td>\n      <td>0</td>\n      <td>1</td>\n      <td>1</td>\n    </tr>\n    <tr>\n      <th>1167</th>\n      <td>No Urgent Place</td>\n      <td>Partner</td>\n      <td>Sunny</td>\n      <td>80</td>\n      <td>10AM</td>\n      <td>Restaurant(20-50)</td>\n      <td>1d</td>\n      <td>Male</td>\n      <td>26</td>\n      <td>Unmarried partner</td>\n      <td>...</td>\n      <td>NaN</td>\n      <td>NaN</td>\n      <td>NaN</td>\n      <td>NaN</td>\n      <td>1</td>\n      <td>0</td>\n      <td>0</td>\n      <td>0</td>\n      <td>1</td>\n      <td>1</td>\n    </tr>\n    <tr>\n      <th>1168</th>\n      <td>No Urgent Place</td>\n      <td>Partner</td>\n      <td>Sunny</td>\n      <td>80</td>\n      <td>10AM</td>\n      <td>Bar</td>\n      <td>2h</td>\n      <td>Male</td>\n      <td>26</td>\n      <td>Unmarried partner</td>\n      <td>...</td>\n      <td>NaN</td>\n      <td>NaN</td>\n      <td>NaN</td>\n      <td>NaN</td>\n      <td>1</td>\n      <td>0</td>\n      <td>0</td>\n      <td>0</td>\n      <td>1</td>\n      <td>1</td>\n    </tr>\n    <tr>\n      <th>1169</th>\n      <td>No Urgent Place</td>\n      <td>Partner</td>\n      <td>Sunny</td>\n      <td>80</td>\n      <td>10AM</td>\n      <td>Coffee House</td>\n      <td>2h</td>\n      <td>Male</td>\n      <td>26</td>\n      <td>Unmarried partner</td>\n      <td>...</td>\n      <td>NaN</td>\n      <td>NaN</td>\n      <td>NaN</td>\n      <td>NaN</td>\n      <td>1</td>\n      <td>1</td>\n      <td>0</td>\n      <td>0</td>\n      <td>1</td>\n      <td>0</td>\n    </tr>\n    <tr>\n      <th>1170</th>\n      <td>No Urgent Place</td>\n      <td>Partner</td>\n      <td>Sunny</td>\n      <td>80</td>\n      <td>6PM</td>\n      <td>Restaurant(&lt;20)</td>\n      <td>2h</td>\n      <td>Male</td>\n      <td>26</td>\n      <td>Unmarried partner</td>\n      <td>...</td>\n      <td>NaN</td>\n      <td>NaN</td>\n      <td>NaN</td>\n      <td>NaN</td>\n      <td>1</td>\n      <td>0</td>\n      <td>0</td>\n      <td>0</td>\n      <td>1</td>\n      <td>1</td>\n    </tr>\n    <tr>\n      <th>1171</th>\n      <td>No Urgent Place</td>\n      <td>Partner</td>\n      <td>Sunny</td>\n      <td>80</td>\n      <td>6PM</td>\n      <td>Bar</td>\n      <td>1d</td>\n      <td>Male</td>\n      <td>26</td>\n      <td>Unmarried partner</td>\n      <td>...</td>\n      <td>NaN</td>\n      <td>NaN</td>\n      <td>NaN</td>\n      <td>NaN</td>\n      <td>1</td>\n      <td>1</td>\n      <td>0</td>\n      <td>0</td>\n      <td>1</td>\n      <td>1</td>\n    </tr>\n    <tr>\n      <th>2380</th>\n      <td>No Urgent Place</td>\n      <td>Friend(s)</td>\n      <td>Sunny</td>\n      <td>80</td>\n      <td>10AM</td>\n      <td>Bar</td>\n      <td>1d</td>\n      <td>Male</td>\n      <td>26</td>\n      <td>Single</td>\n      <td>...</td>\n      <td>NaN</td>\n      <td>NaN</td>\n      <td>NaN</td>\n      <td>NaN</td>\n      <td>1</td>\n      <td>0</td>\n      <td>0</td>\n      <td>0</td>\n      <td>1</td>\n      <td>1</td>\n    </tr>\n    <tr>\n      <th>2381</th>\n      <td>No Urgent Place</td>\n      <td>Friend(s)</td>\n      <td>Sunny</td>\n      <td>80</td>\n      <td>2PM</td>\n      <td>Coffee House</td>\n      <td>1d</td>\n      <td>Male</td>\n      <td>26</td>\n      <td>Single</td>\n      <td>...</td>\n      <td>NaN</td>\n      <td>NaN</td>\n      <td>NaN</td>\n      <td>NaN</td>\n      <td>1</td>\n      <td>0</td>\n      <td>0</td>\n      <td>0</td>\n      <td>1</td>\n      <td>0</td>\n    </tr>\n    <tr>\n      <th>2382</th>\n      <td>No Urgent Place</td>\n      <td>Friend(s)</td>\n      <td>Sunny</td>\n      <td>80</td>\n      <td>2PM</td>\n      <td>Restaurant(&lt;20)</td>\n      <td>1d</td>\n      <td>Male</td>\n      <td>26</td>\n      <td>Single</td>\n      <td>...</td>\n      <td>NaN</td>\n      <td>NaN</td>\n      <td>NaN</td>\n      <td>NaN</td>\n      <td>1</td>\n      <td>1</td>\n      <td>0</td>\n      <td>0</td>\n      <td>1</td>\n      <td>1</td>\n    </tr>\n    <tr>\n      <th>2383</th>\n      <td>No Urgent Place</td>\n      <td>Friend(s)</td>\n      <td>Sunny</td>\n      <td>80</td>\n      <td>6PM</td>\n      <td>Coffee House</td>\n      <td>2h</td>\n      <td>Male</td>\n      <td>26</td>\n      <td>Single</td>\n      <td>...</td>\n      <td>NaN</td>\n      <td>NaN</td>\n      <td>NaN</td>\n      <td>NaN</td>\n      <td>1</td>\n      <td>0</td>\n      <td>0</td>\n      <td>0</td>\n      <td>1</td>\n      <td>0</td>\n    </tr>\n    <tr>\n      <th>2384</th>\n      <td>No Urgent Place</td>\n      <td>Friend(s)</td>\n      <td>Sunny</td>\n      <td>55</td>\n      <td>2PM</td>\n      <td>Coffee House</td>\n      <td>2h</td>\n      <td>Male</td>\n      <td>26</td>\n      <td>Single</td>\n      <td>...</td>\n      <td>NaN</td>\n      <td>NaN</td>\n      <td>NaN</td>\n      <td>NaN</td>\n      <td>1</td>\n      <td>0</td>\n      <td>0</td>\n      <td>0</td>\n      <td>1</td>\n      <td>0</td>\n    </tr>\n    <tr>\n      <th>2385</th>\n      <td>No Urgent Place</td>\n      <td>Alone</td>\n      <td>Sunny</td>\n      <td>55</td>\n      <td>10AM</td>\n      <td>Coffee House</td>\n      <td>2h</td>\n      <td>Male</td>\n      <td>26</td>\n      <td>Single</td>\n      <td>...</td>\n      <td>NaN</td>\n      <td>NaN</td>\n      <td>NaN</td>\n      <td>NaN</td>\n      <td>1</td>\n      <td>0</td>\n      <td>0</td>\n      <td>0</td>\n      <td>1</td>\n      <td>1</td>\n    </tr>\n    <tr>\n      <th>3137</th>\n      <td>No Urgent Place</td>\n      <td>Friend(s)</td>\n      <td>Sunny</td>\n      <td>80</td>\n      <td>10AM</td>\n      <td>Bar</td>\n      <td>1d</td>\n      <td>Male</td>\n      <td>21</td>\n      <td>Single</td>\n      <td>...</td>\n      <td>NaN</td>\n      <td>NaN</td>\n      <td>NaN</td>\n      <td>NaN</td>\n      <td>1</td>\n      <td>0</td>\n      <td>0</td>\n      <td>0</td>\n      <td>1</td>\n      <td>0</td>\n    </tr>\n    <tr>\n      <th>3138</th>\n      <td>No Urgent Place</td>\n      <td>Friend(s)</td>\n      <td>Sunny</td>\n      <td>80</td>\n      <td>2PM</td>\n      <td>Coffee House</td>\n      <td>1d</td>\n      <td>Male</td>\n      <td>21</td>\n      <td>Single</td>\n      <td>...</td>\n      <td>NaN</td>\n      <td>NaN</td>\n      <td>NaN</td>\n      <td>NaN</td>\n      <td>1</td>\n      <td>0</td>\n      <td>0</td>\n      <td>0</td>\n      <td>1</td>\n      <td>1</td>\n    </tr>\n    <tr>\n      <th>3139</th>\n      <td>No Urgent Place</td>\n      <td>Friend(s)</td>\n      <td>Sunny</td>\n      <td>80</td>\n      <td>2PM</td>\n      <td>Restaurant(&lt;20)</td>\n      <td>1d</td>\n      <td>Male</td>\n      <td>21</td>\n      <td>Single</td>\n      <td>...</td>\n      <td>NaN</td>\n      <td>NaN</td>\n      <td>NaN</td>\n      <td>NaN</td>\n      <td>1</td>\n      <td>1</td>\n      <td>0</td>\n      <td>0</td>\n      <td>1</td>\n      <td>1</td>\n    </tr>\n    <tr>\n      <th>3140</th>\n      <td>No Urgent Place</td>\n      <td>Friend(s)</td>\n      <td>Sunny</td>\n      <td>80</td>\n      <td>6PM</td>\n      <td>Coffee House</td>\n      <td>2h</td>\n      <td>Male</td>\n      <td>21</td>\n      <td>Single</td>\n      <td>...</td>\n      <td>NaN</td>\n      <td>NaN</td>\n      <td>NaN</td>\n      <td>NaN</td>\n      <td>1</td>\n      <td>0</td>\n      <td>0</td>\n      <td>0</td>\n      <td>1</td>\n      <td>0</td>\n    </tr>\n    <tr>\n      <th>3141</th>\n      <td>No Urgent Place</td>\n      <td>Friend(s)</td>\n      <td>Sunny</td>\n      <td>55</td>\n      <td>2PM</td>\n      <td>Coffee House</td>\n      <td>2h</td>\n      <td>Male</td>\n      <td>21</td>\n      <td>Single</td>\n      <td>...</td>\n      <td>NaN</td>\n      <td>NaN</td>\n      <td>NaN</td>\n      <td>NaN</td>\n      <td>1</td>\n      <td>0</td>\n      <td>0</td>\n      <td>0</td>\n      <td>1</td>\n      <td>1</td>\n    </tr>\n    <tr>\n      <th>3142</th>\n      <td>No Urgent Place</td>\n      <td>Alone</td>\n      <td>Sunny</td>\n      <td>55</td>\n      <td>10AM</td>\n      <td>Coffee House</td>\n      <td>2h</td>\n      <td>Male</td>\n      <td>21</td>\n      <td>Single</td>\n      <td>...</td>\n      <td>NaN</td>\n      <td>NaN</td>\n      <td>NaN</td>\n      <td>NaN</td>\n      <td>1</td>\n      <td>0</td>\n      <td>0</td>\n      <td>0</td>\n      <td>1</td>\n      <td>1</td>\n    </tr>\n    <tr>\n      <th>12152</th>\n      <td>No Urgent Place</td>\n      <td>Friend(s)</td>\n      <td>Sunny</td>\n      <td>80</td>\n      <td>6PM</td>\n      <td>Restaurant(&lt;20)</td>\n      <td>2h</td>\n      <td>Female</td>\n      <td>31</td>\n      <td>Single</td>\n      <td>...</td>\n      <td>less1</td>\n      <td>gt8</td>\n      <td>1~3</td>\n      <td>less1</td>\n      <td>1</td>\n      <td>0</td>\n      <td>0</td>\n      <td>0</td>\n      <td>1</td>\n      <td>0</td>\n    </tr>\n    <tr>\n      <th>12153</th>\n      <td>No Urgent Place</td>\n      <td>Friend(s)</td>\n      <td>Sunny</td>\n      <td>80</td>\n      <td>10PM</td>\n      <td>Bar</td>\n      <td>1d</td>\n      <td>Female</td>\n      <td>31</td>\n      <td>Single</td>\n      <td>...</td>\n      <td>less1</td>\n      <td>gt8</td>\n      <td>1~3</td>\n      <td>less1</td>\n      <td>1</td>\n      <td>1</td>\n      <td>0</td>\n      <td>0</td>\n      <td>1</td>\n      <td>0</td>\n    </tr>\n    <tr>\n      <th>12154</th>\n      <td>No Urgent Place</td>\n      <td>Friend(s)</td>\n      <td>Sunny</td>\n      <td>55</td>\n      <td>10PM</td>\n      <td>Bar</td>\n      <td>2h</td>\n      <td>Female</td>\n      <td>31</td>\n      <td>Single</td>\n      <td>...</td>\n      <td>less1</td>\n      <td>gt8</td>\n      <td>1~3</td>\n      <td>less1</td>\n      <td>1</td>\n      <td>1</td>\n      <td>0</td>\n      <td>0</td>\n      <td>1</td>\n      <td>0</td>\n    </tr>\n    <tr>\n      <th>12155</th>\n      <td>No Urgent Place</td>\n      <td>Friend(s)</td>\n      <td>Sunny</td>\n      <td>30</td>\n      <td>10AM</td>\n      <td>Carry out &amp; Take away</td>\n      <td>2h</td>\n      <td>Female</td>\n      <td>31</td>\n      <td>Single</td>\n      <td>...</td>\n      <td>less1</td>\n      <td>gt8</td>\n      <td>1~3</td>\n      <td>less1</td>\n      <td>1</td>\n      <td>0</td>\n      <td>0</td>\n      <td>0</td>\n      <td>1</td>\n      <td>0</td>\n    </tr>\n    <tr>\n      <th>12156</th>\n      <td>No Urgent Place</td>\n      <td>Friend(s)</td>\n      <td>Snowy</td>\n      <td>30</td>\n      <td>2PM</td>\n      <td>Restaurant(&lt;20)</td>\n      <td>1d</td>\n      <td>Female</td>\n      <td>31</td>\n      <td>Single</td>\n      <td>...</td>\n      <td>less1</td>\n      <td>gt8</td>\n      <td>1~3</td>\n      <td>less1</td>\n      <td>1</td>\n      <td>0</td>\n      <td>0</td>\n      <td>0</td>\n      <td>1</td>\n      <td>0</td>\n    </tr>\n    <tr>\n      <th>12157</th>\n      <td>No Urgent Place</td>\n      <td>Alone</td>\n      <td>Rainy</td>\n      <td>55</td>\n      <td>10AM</td>\n      <td>Bar</td>\n      <td>1d</td>\n      <td>Female</td>\n      <td>31</td>\n      <td>Single</td>\n      <td>...</td>\n      <td>less1</td>\n      <td>gt8</td>\n      <td>1~3</td>\n      <td>less1</td>\n      <td>1</td>\n      <td>1</td>\n      <td>0</td>\n      <td>0</td>\n      <td>1</td>\n      <td>0</td>\n    </tr>\n    <tr>\n      <th>12158</th>\n      <td>No Urgent Place</td>\n      <td>Alone</td>\n      <td>Rainy</td>\n      <td>55</td>\n      <td>2PM</td>\n      <td>Carry out &amp; Take away</td>\n      <td>2h</td>\n      <td>Female</td>\n      <td>31</td>\n      <td>Single</td>\n      <td>...</td>\n      <td>less1</td>\n      <td>gt8</td>\n      <td>1~3</td>\n      <td>less1</td>\n      <td>1</td>\n      <td>0</td>\n      <td>0</td>\n      <td>0</td>\n      <td>1</td>\n      <td>0</td>\n    </tr>\n    <tr>\n      <th>12159</th>\n      <td>No Urgent Place</td>\n      <td>Alone</td>\n      <td>Sunny</td>\n      <td>80</td>\n      <td>10AM</td>\n      <td>Restaurant(&lt;20)</td>\n      <td>2h</td>\n      <td>Female</td>\n      <td>31</td>\n      <td>Single</td>\n      <td>...</td>\n      <td>less1</td>\n      <td>gt8</td>\n      <td>1~3</td>\n      <td>less1</td>\n      <td>1</td>\n      <td>0</td>\n      <td>0</td>\n      <td>0</td>\n      <td>1</td>\n      <td>0</td>\n    </tr>\n    <tr>\n      <th>12160</th>\n      <td>No Urgent Place</td>\n      <td>Alone</td>\n      <td>Snowy</td>\n      <td>30</td>\n      <td>10AM</td>\n      <td>Restaurant(&lt;20)</td>\n      <td>1d</td>\n      <td>Female</td>\n      <td>31</td>\n      <td>Single</td>\n      <td>...</td>\n      <td>less1</td>\n      <td>gt8</td>\n      <td>1~3</td>\n      <td>less1</td>\n      <td>1</td>\n      <td>1</td>\n      <td>0</td>\n      <td>0</td>\n      <td>1</td>\n      <td>0</td>\n    </tr>\n    <tr>\n      <th>12161</th>\n      <td>Home</td>\n      <td>Alone</td>\n      <td>Sunny</td>\n      <td>80</td>\n      <td>6PM</td>\n      <td>Carry out &amp; Take away</td>\n      <td>2h</td>\n      <td>Female</td>\n      <td>31</td>\n      <td>Single</td>\n      <td>...</td>\n      <td>less1</td>\n      <td>gt8</td>\n      <td>1~3</td>\n      <td>less1</td>\n      <td>1</td>\n      <td>1</td>\n      <td>0</td>\n      <td>1</td>\n      <td>0</td>\n      <td>0</td>\n    </tr>\n    <tr>\n      <th>12162</th>\n      <td>Home</td>\n      <td>Alone</td>\n      <td>Sunny</td>\n      <td>30</td>\n      <td>6PM</td>\n      <td>Carry out &amp; Take away</td>\n      <td>1d</td>\n      <td>Female</td>\n      <td>31</td>\n      <td>Single</td>\n      <td>...</td>\n      <td>less1</td>\n      <td>gt8</td>\n      <td>1~3</td>\n      <td>less1</td>\n      <td>1</td>\n      <td>0</td>\n      <td>0</td>\n      <td>0</td>\n      <td>1</td>\n      <td>0</td>\n    </tr>\n    <tr>\n      <th>12163</th>\n      <td>Home</td>\n      <td>Alone</td>\n      <td>Rainy</td>\n      <td>55</td>\n      <td>10PM</td>\n      <td>Coffee House</td>\n      <td>2h</td>\n      <td>Female</td>\n      <td>31</td>\n      <td>Single</td>\n      <td>...</td>\n      <td>less1</td>\n      <td>gt8</td>\n      <td>1~3</td>\n      <td>less1</td>\n      <td>1</td>\n      <td>0</td>\n      <td>0</td>\n      <td>1</td>\n      <td>0</td>\n      <td>0</td>\n    </tr>\n    <tr>\n      <th>12164</th>\n      <td>Home</td>\n      <td>Alone</td>\n      <td>Snowy</td>\n      <td>30</td>\n      <td>10PM</td>\n      <td>Coffee House</td>\n      <td>2h</td>\n      <td>Female</td>\n      <td>31</td>\n      <td>Single</td>\n      <td>...</td>\n      <td>less1</td>\n      <td>gt8</td>\n      <td>1~3</td>\n      <td>less1</td>\n      <td>1</td>\n      <td>1</td>\n      <td>0</td>\n      <td>0</td>\n      <td>1</td>\n      <td>0</td>\n    </tr>\n    <tr>\n      <th>12165</th>\n      <td>Home</td>\n      <td>Alone</td>\n      <td>Snowy</td>\n      <td>30</td>\n      <td>10PM</td>\n      <td>Carry out &amp; Take away</td>\n      <td>1d</td>\n      <td>Female</td>\n      <td>31</td>\n      <td>Single</td>\n      <td>...</td>\n      <td>less1</td>\n      <td>gt8</td>\n      <td>1~3</td>\n      <td>less1</td>\n      <td>1</td>\n      <td>1</td>\n      <td>1</td>\n      <td>0</td>\n      <td>1</td>\n      <td>0</td>\n    </tr>\n    <tr>\n      <th>12166</th>\n      <td>Home</td>\n      <td>Alone</td>\n      <td>Sunny</td>\n      <td>80</td>\n      <td>6PM</td>\n      <td>Restaurant(20-50)</td>\n      <td>1d</td>\n      <td>Female</td>\n      <td>31</td>\n      <td>Single</td>\n      <td>...</td>\n      <td>less1</td>\n      <td>gt8</td>\n      <td>1~3</td>\n      <td>less1</td>\n      <td>1</td>\n      <td>0</td>\n      <td>0</td>\n      <td>1</td>\n      <td>0</td>\n      <td>0</td>\n    </tr>\n    <tr>\n      <th>12167</th>\n      <td>Home</td>\n      <td>Alone</td>\n      <td>Sunny</td>\n      <td>80</td>\n      <td>10PM</td>\n      <td>Restaurant(20-50)</td>\n      <td>1d</td>\n      <td>Female</td>\n      <td>31</td>\n      <td>Single</td>\n      <td>...</td>\n      <td>less1</td>\n      <td>gt8</td>\n      <td>1~3</td>\n      <td>less1</td>\n      <td>1</td>\n      <td>0</td>\n      <td>0</td>\n      <td>0</td>\n      <td>1</td>\n      <td>0</td>\n    </tr>\n    <tr>\n      <th>12168</th>\n      <td>Work</td>\n      <td>Alone</td>\n      <td>Rainy</td>\n      <td>55</td>\n      <td>7AM</td>\n      <td>Restaurant(&lt;20)</td>\n      <td>2h</td>\n      <td>Female</td>\n      <td>31</td>\n      <td>Single</td>\n      <td>...</td>\n      <td>less1</td>\n      <td>gt8</td>\n      <td>1~3</td>\n      <td>less1</td>\n      <td>1</td>\n      <td>0</td>\n      <td>0</td>\n      <td>1</td>\n      <td>0</td>\n      <td>0</td>\n    </tr>\n    <tr>\n      <th>12169</th>\n      <td>Work</td>\n      <td>Alone</td>\n      <td>Rainy</td>\n      <td>55</td>\n      <td>7AM</td>\n      <td>Carry out &amp; Take away</td>\n      <td>1d</td>\n      <td>Female</td>\n      <td>31</td>\n      <td>Single</td>\n      <td>...</td>\n      <td>less1</td>\n      <td>gt8</td>\n      <td>1~3</td>\n      <td>less1</td>\n      <td>1</td>\n      <td>0</td>\n      <td>0</td>\n      <td>0</td>\n      <td>1</td>\n      <td>0</td>\n    </tr>\n    <tr>\n      <th>12170</th>\n      <td>Work</td>\n      <td>Alone</td>\n      <td>Snowy</td>\n      <td>30</td>\n      <td>7AM</td>\n      <td>Coffee House</td>\n      <td>1d</td>\n      <td>Female</td>\n      <td>31</td>\n      <td>Single</td>\n      <td>...</td>\n      <td>less1</td>\n      <td>gt8</td>\n      <td>1~3</td>\n      <td>less1</td>\n      <td>1</td>\n      <td>0</td>\n      <td>0</td>\n      <td>1</td>\n      <td>0</td>\n      <td>1</td>\n    </tr>\n    <tr>\n      <th>12171</th>\n      <td>Work</td>\n      <td>Alone</td>\n      <td>Snowy</td>\n      <td>30</td>\n      <td>7AM</td>\n      <td>Bar</td>\n      <td>1d</td>\n      <td>Female</td>\n      <td>31</td>\n      <td>Single</td>\n      <td>...</td>\n      <td>less1</td>\n      <td>gt8</td>\n      <td>1~3</td>\n      <td>less1</td>\n      <td>1</td>\n      <td>1</td>\n      <td>1</td>\n      <td>0</td>\n      <td>1</td>\n      <td>0</td>\n    </tr>\n    <tr>\n      <th>12172</th>\n      <td>Work</td>\n      <td>Alone</td>\n      <td>Sunny</td>\n      <td>80</td>\n      <td>7AM</td>\n      <td>Restaurant(20-50)</td>\n      <td>2h</td>\n      <td>Female</td>\n      <td>31</td>\n      <td>Single</td>\n      <td>...</td>\n      <td>less1</td>\n      <td>gt8</td>\n      <td>1~3</td>\n      <td>less1</td>\n      <td>1</td>\n      <td>0</td>\n      <td>0</td>\n      <td>1</td>\n      <td>0</td>\n      <td>0</td>\n    </tr>\n  </tbody>\n</table>\n<p>45 rows × 26 columns</p>\n</div>"
     },
     "execution_count": 103,
     "metadata": {},
     "output_type": "execute_result"
    }
   ],
   "source": [
    "#tmp_dataset.loc[(tmp_dataset['Bar'].isnull() & tmp_dataset['has_children'] == 0),'Bar']\n",
    "tmp_dataset[tmp_dataset['Bar'].isnull()]"
   ],
   "metadata": {
    "collapsed": false,
    "ExecuteTime": {
     "end_time": "2023-07-08T18:09:30.794361700Z",
     "start_time": "2023-07-08T18:09:30.759241800Z"
    }
   }
  },
  {
   "cell_type": "code",
   "execution_count": 104,
   "outputs": [],
   "source": [
    "tmp_dataset['Bar'] = tmp_dataset['Bar'].fillna(\"1~3\")"
   ],
   "metadata": {
    "collapsed": false,
    "ExecuteTime": {
     "end_time": "2023-07-08T18:10:52.376929500Z",
     "start_time": "2023-07-08T18:10:52.343807100Z"
    }
   }
  },
  {
   "cell_type": "code",
   "execution_count": 105,
   "outputs": [
    {
     "data": {
      "text/plain": "<Axes: xlabel='Bar', ylabel='Count'>"
     },
     "execution_count": 105,
     "metadata": {},
     "output_type": "execute_result"
    },
    {
     "data": {
      "text/plain": "<Figure size 432x288 with 1 Axes>",
      "image/png": "[encoded data removed]"
     },
     "metadata": {
      "needs_background": "light"
     },
     "output_type": "display_data"
    }
   ],
   "source": [
    "sns.histplot(data=tmp_dataset, x=\"Bar\")"
   ],
   "metadata": {
    "collapsed": false,
    "ExecuteTime": {
     "end_time": "2023-07-08T18:10:56.998395300Z",
     "start_time": "2023-07-08T18:10:56.882834900Z"
    }
   }
  },
  {
   "cell_type": "code",
   "execution_count": 106,
   "outputs": [
    {
     "data": {
      "text/plain": "0"
     },
     "execution_count": 106,
     "metadata": {},
     "output_type": "execute_result"
    }
   ],
   "source": [
    "tmp_dataset['Bar'].isnull().sum()"
   ],
   "metadata": {
    "collapsed": false,
    "ExecuteTime": {
     "end_time": "2023-07-08T18:11:25.130257400Z",
     "start_time": "2023-07-08T18:11:25.120150600Z"
    }
   }
  },
  {
   "cell_type": "code",
   "execution_count": 110,
   "outputs": [
    {
     "data": {
      "text/plain": "<Axes: xlabel='CoffeeHouse', ylabel='Count'>"
     },
     "execution_count": 110,
     "metadata": {},
     "output_type": "execute_result"
    },
    {
     "data": {
      "text/plain": "<Figure size 432x288 with 1 Axes>",
      "image/png": "[encoded data removed]"
     },
     "metadata": {
      "needs_background": "light"
     },
     "output_type": "display_data"
    }
   ],
   "source": [
    "sns.histplot(data=tmp_dataset, x=\"CoffeeHouse\")\n",
    "# tmp_dataset['CoffeeHouse'].value_counts()"
   ],
   "metadata": {
    "collapsed": false,
    "ExecuteTime": {
     "end_time": "2023-07-08T20:28:03.947444100Z",
     "start_time": "2023-07-08T20:28:03.799661100Z"
    }
   }
  },
  {
   "cell_type": "code",
   "execution_count": 111,
   "outputs": [],
   "source": [
    "tmp_dataset['CoffeeHouse'] = tmp_dataset['CoffeeHouse'].fillna(\"4~8\")"
   ],
   "metadata": {
    "collapsed": false,
    "ExecuteTime": {
     "end_time": "2023-07-08T20:32:43.607302900Z",
     "start_time": "2023-07-08T20:32:43.590715100Z"
    }
   }
  },
  {
   "cell_type": "code",
   "execution_count": 115,
   "outputs": [
    {
     "data": {
      "text/plain": "<Figure size 432x288 with 1 Axes>",
      "image/png": "[encoded data removed]"
     },
     "metadata": {
      "needs_background": "light"
     },
     "output_type": "display_data"
    }
   ],
   "source": [
    "tmp_dataset['CarryAway'].isnull().sum()\n",
    "sns.histplot(data=tmp_dataset, x=\"CarryAway\")\n",
    "tmp_dataset['CarryAway'] = tmp_dataset['CarryAway'].fillna(\"1~3\")"
   ],
   "metadata": {
    "collapsed": false,
    "ExecuteTime": {
     "end_time": "2023-07-08T20:36:11.832060200Z",
     "start_time": "2023-07-08T20:36:11.713764700Z"
    }
   }
  },
  {
   "cell_type": "code",
   "execution_count": 121,
   "outputs": [],
   "source": [
    "tmp_dataset['RestaurantLessThan20'] = tmp_dataset['RestaurantLessThan20'].fillna(\"Unknown\")\n",
    "tmp_dataset['Restaurant20To50'] = tmp_dataset['Restaurant20To50'].fillna(\"Unknown\")"
   ],
   "metadata": {
    "collapsed": false,
    "ExecuteTime": {
     "end_time": "2023-07-08T20:41:47.586116900Z",
     "start_time": "2023-07-08T20:41:47.563242300Z"
    }
   }
  },
  {
   "cell_type": "code",
   "execution_count": 120,
   "outputs": [
    {
     "name": "stdout",
     "output_type": "stream",
     "text": [
      "Car                     0\n",
      "Bar                     0\n",
      "CoffeeHouse             0\n",
      "CarryAway               0\n",
      "RestaurantLessThan20    0\n",
      "Restaurant20To50        0\n",
      "dtype: int64\n"
     ]
    }
   ],
   "source": [
    "nan_list = [tmp_dataset['car'].isnull().sum(),tmp_dataset['Bar'].isnull().sum(), tmp_dataset['CoffeeHouse'].isnull().sum(),tmp_dataset['CarryAway'].isnull().sum(),tmp_dataset['RestaurantLessThan20'].isnull().sum(),tmp_dataset['Restaurant20To50'].isnull().sum()]\n",
    "nan_list_series = pd.Series(nan_list, index = [\"Car\",\"Bar\", \"CoffeeHouse\",\"CarryAway\",\"RestaurantLessThan20\",\"Restaurant20To50\"])\n",
    "print(nan_list_series)"
   ],
   "metadata": {
    "collapsed": false,
    "ExecuteTime": {
     "end_time": "2023-07-08T20:41:43.339029700Z",
     "start_time": "2023-07-08T20:41:43.333990600Z"
    }
   }
  },
  {
   "cell_type": "markdown",
   "metadata": {},
   "source": [
    "4. What proportion of the total observations chose to accept the coupon? \n",
    "\n"
   ]
  },
  {
   "cell_type": "code",
   "execution_count": 154,
   "outputs": [
    {
     "data": {
      "text/plain": "coupon                 Y\nCoffee House           0    2001\n                       1    1995\nRestaurant(<20)        1    1970\nCarry out & Take away  1    1760\nBar                    0    1190\nRestaurant(20-50)      0     834\nBar                    1     827\nRestaurant(<20)        0     816\nRestaurant(20-50)      1     658\nCarry out & Take away  0     633\ndtype: int64"
     },
     "execution_count": 154,
     "metadata": {},
     "output_type": "execute_result"
    }
   ],
   "source": [
    "# fig = px.pie(tmp_dataset, values='Y', names='gender', title='Observations')\n",
    "# fig.show()\n",
    "# coupon_set = tmp_dataset.query('Y ==1')\n",
    "# coupon_set['coupon'].value_counts().plot(kind='pie')\n",
    "coupon_temp_set = tmp_dataset[['coupon','Y']]\n",
    "coupon_temp_set.value_counts()\n"
   ],
   "metadata": {
    "collapsed": false,
    "ExecuteTime": {
     "end_time": "2023-07-08T21:26:56.484716400Z",
     "start_time": "2023-07-08T21:26:56.467604700Z"
    }
   }
  },
  {
   "cell_type": "code",
   "execution_count": null,
   "metadata": {},
   "outputs": [],
   "source": []
  },
  {
   "cell_type": "markdown",
   "metadata": {},
   "source": [
    "5. Use a bar plot to visualize the `coupon` column."
   ]
  },
  {
   "cell_type": "code",
   "execution_count": 133,
   "metadata": {
    "ExecuteTime": {
     "end_time": "2023-07-08T20:57:56.033613200Z",
     "start_time": "2023-07-08T20:57:55.908923100Z"
    }
   },
   "outputs": [
    {
     "data": {
      "text/plain": "<Axes: >"
     },
     "execution_count": 133,
     "metadata": {},
     "output_type": "execute_result"
    },
    {
     "data": {
      "text/plain": "<Figure size 432x288 with 1 Axes>",
      "image/png": "[encoded data removed]"
     },
     "metadata": {
      "needs_background": "light"
     },
     "output_type": "display_data"
    }
   ],
   "source": [
    "# print(tmp_dataset['coupon'])\n",
    "tmp_dataset['coupon'].value_counts().plot(kind=\"bar\")"
   ]
  },
  {
   "cell_type": "code",
   "execution_count": 141,
   "outputs": [
    {
     "data": {
      "text/plain": "<Axes: xlabel='coupon', ylabel='count'>"
     },
     "execution_count": 141,
     "metadata": {},
     "output_type": "execute_result"
    },
    {
     "data": {
      "text/plain": "<Figure size 1080x576 with 1 Axes>",
      "image/png": "[encoded data removed]"
     },
     "metadata": {
      "needs_background": "light"
     },
     "output_type": "display_data"
    }
   ],
   "source": [
    "plt.figure(figsize=(15,8))\n",
    "sns.countplot(x='coupon', data=tmp_dataset, hue='weather')"
   ],
   "metadata": {
    "collapsed": false,
    "ExecuteTime": {
     "end_time": "2023-07-08T21:11:10.199878800Z",
     "start_time": "2023-07-08T21:11:09.999045200Z"
    }
   }
  },
  {
   "cell_type": "markdown",
   "metadata": {},
   "source": [
    "6. Use a histogram to visualize the temperature column."
   ]
  },
  {
   "cell_type": "code",
   "execution_count": null,
   "metadata": {},
   "outputs": [],
   "source": []
  },
  {
   "cell_type": "code",
   "execution_count": null,
   "metadata": {},
   "outputs": [],
   "source": []
  },
  {
   "cell_type": "code",
   "execution_count": null,
   "metadata": {},
   "outputs": [],
   "source": []
  },
  {
   "cell_type": "code",
   "execution_count": null,
   "metadata": {},
   "outputs": [],
   "source": []
  },
  {
   "cell_type": "code",
   "execution_count": null,
   "metadata": {},
   "outputs": [],
   "source": []
  },
  {
   "cell_type": "markdown",
   "metadata": {},
   "source": [
    "**Investigating the Bar Coupons**\n",
    "\n",
    "Now, we will lead you through an exploration of just the bar related coupons.  \n",
    "\n",
    "1. Create a new `DataFrame` that contains just the bar coupons.\n"
   ]
  },
  {
   "cell_type": "code",
   "execution_count": null,
   "metadata": {},
   "outputs": [],
   "source": []
  },
  {
   "cell_type": "markdown",
   "metadata": {},
   "source": [
    "2. What proportion of bar coupons were accepted?\n"
   ]
  },
  {
   "cell_type": "code",
   "execution_count": null,
   "metadata": {},
   "outputs": [],
   "source": []
  },
  {
   "cell_type": "markdown",
   "metadata": {},
   "source": [
    "3. Compare the acceptance rate between those who went to a bar 3 or fewer times a month to those who went more.\n"
   ]
  },
  {
   "cell_type": "code",
   "execution_count": null,
   "metadata": {},
   "outputs": [],
   "source": []
  },
  {
   "cell_type": "markdown",
   "metadata": {},
   "source": [
    "4. Compare the acceptance rate between drivers who go to a bar more than once a month and are over the age of 25 to the all others.  Is there a difference?\n"
   ]
  },
  {
   "cell_type": "code",
   "execution_count": null,
   "metadata": {},
   "outputs": [],
   "source": []
  },
  {
   "cell_type": "markdown",
   "metadata": {},
   "source": [
    "5. Use the same process to compare the acceptance rate between drivers who go to bars more than once a month and had passengers that were not a kid and had occupations other than farming, fishing, or forestry. \n"
   ]
  },
  {
   "cell_type": "code",
   "execution_count": null,
   "metadata": {},
   "outputs": [],
   "source": []
  },
  {
   "cell_type": "markdown",
   "metadata": {},
   "source": [
    "6. Compare the acceptance rates between those drivers who:\n",
    "\n",
    "- go to bars more than once a month, had passengers that were not a kid, and were not widowed *OR*\n",
    "- go to bars more than once a month and are under the age of 30 *OR*\n",
    "- go to cheap restaurants more than 4 times a month and income is less than 50K. \n",
    "\n"
   ]
  },
  {
   "cell_type": "code",
   "execution_count": null,
   "metadata": {},
   "outputs": [],
   "source": []
  },
  {
   "cell_type": "markdown",
   "metadata": {},
   "source": [
    "7.  Based on these observations, what do you hypothesize about drivers who accepted the bar coupons?"
   ]
  },
  {
   "cell_type": "code",
   "execution_count": null,
   "metadata": {},
   "outputs": [],
   "source": []
  },
  {
   "cell_type": "markdown",
   "metadata": {},
   "source": [
    "### Independent Investigation\n",
    "\n",
    "Using the bar coupon example as motivation, you are to explore one of the other coupon groups and try to determine the characteristics of passengers who accept the coupons.  "
   ]
  },
  {
   "cell_type": "code",
   "execution_count": null,
   "metadata": {},
   "outputs": [],
   "source": []
  },
  {
   "cell_type": "code",
   "execution_count": null,
   "metadata": {},
   "outputs": [],
   "source": []
  },
  {
   "cell_type": "code",
   "execution_count": null,
   "metadata": {},
   "outputs": [],
   "source": []
  },
  {
   "cell_type": "code",
   "execution_count": null,
   "metadata": {},
   "outputs": [],
   "source": []
  },
  {
   "cell_type": "code",
   "execution_count": null,
   "metadata": {},
   "outputs": [],
   "source": []
  }
 ],
 "metadata": {
  "kernelspec": {
   "display_name": "Python 3",
   "language": "python",
   "name": "python3"
  },
  "language_info": {
   "codemirror_mode": {
    "name": "ipython",
    "version": 3
   },
   "file_extension": ".py",
   "mimetype": "text/x-python",
   "name": "python",
   "nbconvert_exporter": "python",
   "pygments_lexer": "ipython3",
   "version": "3.8.8"
  },
  "widgets": {
   "application/vnd.jupyter.widget-state+json": {
    "state": {},
    "version_major": 2,
    "version_minor": 0
   }
  }
 },
 "nbformat": 4,
 "nbformat_minor": 4
}
